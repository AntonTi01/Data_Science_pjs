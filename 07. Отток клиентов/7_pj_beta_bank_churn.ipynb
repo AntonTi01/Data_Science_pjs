{
 "cells": [
  {
   "cell_type": "markdown",
   "metadata": {},
   "source": [
    "# Проект \"Отток клиентов\""
   ]
  },
  {
   "cell_type": "markdown",
   "metadata": {},
   "source": [
    "## Описание данных"
   ]
  },
  {
   "cell_type": "markdown",
   "metadata": {},
   "source": [
    "Из «Бета-Банка» стали уходить клиенты. Каждый месяц. Немного, но заметно. Банковские маркетологи посчитали: сохранять текущих клиентов дешевле, чем привлекать новых.\n",
    "\n",
    "Нужно спрогнозировать, уйдёт клиент из банка в ближайшее время или нет. Предоставлены исторические данные о поведении клиентов и расторжении договоров с банком.\n",
    "\n",
    "Нужно построить модель с предельно большим значением F1-меры. Нужно довести метрику минимум до 0.59.\n",
    "Проверить F1-меру на тестовой выборке.\n",
    "\n",
    "Дополнительно измерить AUC-ROC, сравнивая её значение с F1-мерой.\n",
    "\n",
    "\n",
    "  \n",
    "**Цели и задачи:**  \n",
    "- Проанализировать исторические данные о поведении клиентов банка, расторжении договоров. Спрогнозировать уход клиента из банка.\n",
    "- Построить модель классификации, метрика качества f1 (минимальное значение 0.59)\n",
    "- Измерить AUC-ROC, сравнить её значение с f1-мерой.\n",
    "\n",
    "**План выполнения работы:**  \n",
    "- 1. Подготовка данных  \n",
    "    - 1.1 Загрузка данных  \n",
    "    - 1.2 Подготовка признаков  \n",
    "    - 1.3 Преобразование признака `Tenure`  \n",
    "- 2. Исследование задачи  \n",
    "    - 2.1 Решающее дерево  \n",
    "    - 2.2 Случайный лес  \n",
    "    - 2.3 Логистическая регрессия \n",
    "- 3. Борьба с дисбалансом  \n",
    "    - 3.1 Взвешивание классов  \n",
    "    - 3.2 Upsampling и Downsampling  \n",
    "- 4. Тестирование модели  \n",
    "- 5. Общий вывод  "
   ]
  },
  {
   "cell_type": "markdown",
   "metadata": {},
   "source": [
    "**Описание данных:**  \n",
    "Исторические данные о поведении клиентов и расторжении договоров с банком.  \n",
    "Источник данных: https://www.kaggle.com/barelydedicated/bank-customer-churn-modeling  \n",
    "  \n",
    "**Признаки**  \n",
    "- `RowNumber` — индекс строки в данных\n",
    "- `CustomerId` — уникальный идентификатор клиента\n",
    "- `Surname` — фамилия\n",
    "- `CreditScore` — кредитный рейтинг\n",
    "- `Geography` — страна проживания\n",
    "- `Gender` — пол\n",
    "- `Age` — возраст\n",
    "- `Tenure` — количество недвижимости у клиента\n",
    "- `Balance` — баланс на счёте\n",
    "- `NumOfProducts` — количество продуктов банка, используемых клиентом\n",
    "- `HasCrCard` — наличие кредитной карты\n",
    "- `IsActiveMember` — активность клиента\n",
    "- `EstimatedSalary` — предполагаемая зарплата  \n",
    "  \n",
    "**Целевой признак**\n",
    "- `Exited` — факт ухода клиента"
   ]
  },
  {
   "cell_type": "markdown",
   "metadata": {},
   "source": [
    "# 1. Подготовка данных"
   ]
  },
  {
   "cell_type": "markdown",
   "metadata": {},
   "source": [
    "## 1.1 Загрузка данных"
   ]
  },
  {
   "cell_type": "markdown",
   "metadata": {},
   "source": [
    "Подключаем библиотеки:\n",
    "- `pandas` - для работы с таблицами  \n",
    "- `seaborn` - для визуализации данных\n",
    "- `display` - для вывода табличных данных\n",
    "- `sklearn` - инструменты машинного обучения (модели классификации, метрики для исследования качества моделей, разделение данных на тренировочные, валидационные, тестовые выборки)"
   ]
  },
  {
   "cell_type": "code",
   "execution_count": 1,
   "metadata": {},
   "outputs": [],
   "source": [
    "import pandas as pd\n",
    "import numpy as np\n",
    "import matplotlib.pyplot as plt\n",
    "import seaborn as sns\n",
    "from IPython.display import display\n",
    "\n",
    "from sklearn.preprocessing import StandardScaler\n",
    "from sklearn.model_selection import train_test_split\n",
    "from sklearn.tree import DecisionTreeClassifier\n",
    "from sklearn.linear_model import LogisticRegression\n",
    "from sklearn.ensemble import RandomForestClassifier, RandomForestRegressor\n",
    "from sklearn.linear_model import LinearRegression\n",
    "from sklearn.neighbors import KNeighborsClassifier\n",
    "from sklearn.svm import SVC\n",
    "from sklearn.metrics import accuracy_score, f1_score, roc_auc_score, r2_score\n",
    "from sklearn.utils import shuffle\n",
    "\n",
    "import warnings\n",
    "warnings.filterwarnings(action='ignore')"
   ]
  },
  {
   "cell_type": "markdown",
   "metadata": {},
   "source": [
    "Загрузим данные из файла `Churn.csv`, выведем первые 10 строк таблицы для первого взгляда на данные.  \n",
    "Также с помощью метода info() изучим структуру таблицы: типы данных, количество строк, столбцов, пропущенных данных."
   ]
  },
  {
   "cell_type": "code",
   "execution_count": 2,
   "metadata": {},
   "outputs": [
    {
     "data": {
      "text/html": [
       "<div>\n",
       "<style scoped>\n",
       "    .dataframe tbody tr th:only-of-type {\n",
       "        vertical-align: middle;\n",
       "    }\n",
       "\n",
       "    .dataframe tbody tr th {\n",
       "        vertical-align: top;\n",
       "    }\n",
       "\n",
       "    .dataframe thead th {\n",
       "        text-align: right;\n",
       "    }\n",
       "</style>\n",
       "<table border=\"1\" class=\"dataframe\">\n",
       "  <thead>\n",
       "    <tr style=\"text-align: right;\">\n",
       "      <th></th>\n",
       "      <th>RowNumber</th>\n",
       "      <th>CustomerId</th>\n",
       "      <th>Surname</th>\n",
       "      <th>CreditScore</th>\n",
       "      <th>Geography</th>\n",
       "      <th>Gender</th>\n",
       "      <th>Age</th>\n",
       "      <th>Tenure</th>\n",
       "      <th>Balance</th>\n",
       "      <th>NumOfProducts</th>\n",
       "      <th>HasCrCard</th>\n",
       "      <th>IsActiveMember</th>\n",
       "      <th>EstimatedSalary</th>\n",
       "      <th>Exited</th>\n",
       "    </tr>\n",
       "  </thead>\n",
       "  <tbody>\n",
       "    <tr>\n",
       "      <th>0</th>\n",
       "      <td>1</td>\n",
       "      <td>15634602</td>\n",
       "      <td>Hargrave</td>\n",
       "      <td>619</td>\n",
       "      <td>France</td>\n",
       "      <td>Female</td>\n",
       "      <td>42</td>\n",
       "      <td>2.0</td>\n",
       "      <td>0.00</td>\n",
       "      <td>1</td>\n",
       "      <td>1</td>\n",
       "      <td>1</td>\n",
       "      <td>101348.88</td>\n",
       "      <td>1</td>\n",
       "    </tr>\n",
       "    <tr>\n",
       "      <th>1</th>\n",
       "      <td>2</td>\n",
       "      <td>15647311</td>\n",
       "      <td>Hill</td>\n",
       "      <td>608</td>\n",
       "      <td>Spain</td>\n",
       "      <td>Female</td>\n",
       "      <td>41</td>\n",
       "      <td>1.0</td>\n",
       "      <td>83807.86</td>\n",
       "      <td>1</td>\n",
       "      <td>0</td>\n",
       "      <td>1</td>\n",
       "      <td>112542.58</td>\n",
       "      <td>0</td>\n",
       "    </tr>\n",
       "    <tr>\n",
       "      <th>2</th>\n",
       "      <td>3</td>\n",
       "      <td>15619304</td>\n",
       "      <td>Onio</td>\n",
       "      <td>502</td>\n",
       "      <td>France</td>\n",
       "      <td>Female</td>\n",
       "      <td>42</td>\n",
       "      <td>8.0</td>\n",
       "      <td>159660.80</td>\n",
       "      <td>3</td>\n",
       "      <td>1</td>\n",
       "      <td>0</td>\n",
       "      <td>113931.57</td>\n",
       "      <td>1</td>\n",
       "    </tr>\n",
       "    <tr>\n",
       "      <th>3</th>\n",
       "      <td>4</td>\n",
       "      <td>15701354</td>\n",
       "      <td>Boni</td>\n",
       "      <td>699</td>\n",
       "      <td>France</td>\n",
       "      <td>Female</td>\n",
       "      <td>39</td>\n",
       "      <td>1.0</td>\n",
       "      <td>0.00</td>\n",
       "      <td>2</td>\n",
       "      <td>0</td>\n",
       "      <td>0</td>\n",
       "      <td>93826.63</td>\n",
       "      <td>0</td>\n",
       "    </tr>\n",
       "    <tr>\n",
       "      <th>4</th>\n",
       "      <td>5</td>\n",
       "      <td>15737888</td>\n",
       "      <td>Mitchell</td>\n",
       "      <td>850</td>\n",
       "      <td>Spain</td>\n",
       "      <td>Female</td>\n",
       "      <td>43</td>\n",
       "      <td>2.0</td>\n",
       "      <td>125510.82</td>\n",
       "      <td>1</td>\n",
       "      <td>1</td>\n",
       "      <td>1</td>\n",
       "      <td>79084.10</td>\n",
       "      <td>0</td>\n",
       "    </tr>\n",
       "    <tr>\n",
       "      <th>5</th>\n",
       "      <td>6</td>\n",
       "      <td>15574012</td>\n",
       "      <td>Chu</td>\n",
       "      <td>645</td>\n",
       "      <td>Spain</td>\n",
       "      <td>Male</td>\n",
       "      <td>44</td>\n",
       "      <td>8.0</td>\n",
       "      <td>113755.78</td>\n",
       "      <td>2</td>\n",
       "      <td>1</td>\n",
       "      <td>0</td>\n",
       "      <td>149756.71</td>\n",
       "      <td>1</td>\n",
       "    </tr>\n",
       "    <tr>\n",
       "      <th>6</th>\n",
       "      <td>7</td>\n",
       "      <td>15592531</td>\n",
       "      <td>Bartlett</td>\n",
       "      <td>822</td>\n",
       "      <td>France</td>\n",
       "      <td>Male</td>\n",
       "      <td>50</td>\n",
       "      <td>7.0</td>\n",
       "      <td>0.00</td>\n",
       "      <td>2</td>\n",
       "      <td>1</td>\n",
       "      <td>1</td>\n",
       "      <td>10062.80</td>\n",
       "      <td>0</td>\n",
       "    </tr>\n",
       "    <tr>\n",
       "      <th>7</th>\n",
       "      <td>8</td>\n",
       "      <td>15656148</td>\n",
       "      <td>Obinna</td>\n",
       "      <td>376</td>\n",
       "      <td>Germany</td>\n",
       "      <td>Female</td>\n",
       "      <td>29</td>\n",
       "      <td>4.0</td>\n",
       "      <td>115046.74</td>\n",
       "      <td>4</td>\n",
       "      <td>1</td>\n",
       "      <td>0</td>\n",
       "      <td>119346.88</td>\n",
       "      <td>1</td>\n",
       "    </tr>\n",
       "    <tr>\n",
       "      <th>8</th>\n",
       "      <td>9</td>\n",
       "      <td>15792365</td>\n",
       "      <td>He</td>\n",
       "      <td>501</td>\n",
       "      <td>France</td>\n",
       "      <td>Male</td>\n",
       "      <td>44</td>\n",
       "      <td>4.0</td>\n",
       "      <td>142051.07</td>\n",
       "      <td>2</td>\n",
       "      <td>0</td>\n",
       "      <td>1</td>\n",
       "      <td>74940.50</td>\n",
       "      <td>0</td>\n",
       "    </tr>\n",
       "    <tr>\n",
       "      <th>9</th>\n",
       "      <td>10</td>\n",
       "      <td>15592389</td>\n",
       "      <td>H?</td>\n",
       "      <td>684</td>\n",
       "      <td>France</td>\n",
       "      <td>Male</td>\n",
       "      <td>27</td>\n",
       "      <td>2.0</td>\n",
       "      <td>134603.88</td>\n",
       "      <td>1</td>\n",
       "      <td>1</td>\n",
       "      <td>1</td>\n",
       "      <td>71725.73</td>\n",
       "      <td>0</td>\n",
       "    </tr>\n",
       "  </tbody>\n",
       "</table>\n",
       "</div>"
      ],
      "text/plain": [
       "   RowNumber  CustomerId   Surname  CreditScore Geography  Gender  Age  \\\n",
       "0          1    15634602  Hargrave          619    France  Female   42   \n",
       "1          2    15647311      Hill          608     Spain  Female   41   \n",
       "2          3    15619304      Onio          502    France  Female   42   \n",
       "3          4    15701354      Boni          699    France  Female   39   \n",
       "4          5    15737888  Mitchell          850     Spain  Female   43   \n",
       "5          6    15574012       Chu          645     Spain    Male   44   \n",
       "6          7    15592531  Bartlett          822    France    Male   50   \n",
       "7          8    15656148    Obinna          376   Germany  Female   29   \n",
       "8          9    15792365        He          501    France    Male   44   \n",
       "9         10    15592389        H?          684    France    Male   27   \n",
       "\n",
       "   Tenure    Balance  NumOfProducts  HasCrCard  IsActiveMember  \\\n",
       "0     2.0       0.00              1          1               1   \n",
       "1     1.0   83807.86              1          0               1   \n",
       "2     8.0  159660.80              3          1               0   \n",
       "3     1.0       0.00              2          0               0   \n",
       "4     2.0  125510.82              1          1               1   \n",
       "5     8.0  113755.78              2          1               0   \n",
       "6     7.0       0.00              2          1               1   \n",
       "7     4.0  115046.74              4          1               0   \n",
       "8     4.0  142051.07              2          0               1   \n",
       "9     2.0  134603.88              1          1               1   \n",
       "\n",
       "   EstimatedSalary  Exited  \n",
       "0        101348.88       1  \n",
       "1        112542.58       0  \n",
       "2        113931.57       1  \n",
       "3         93826.63       0  \n",
       "4         79084.10       0  \n",
       "5        149756.71       1  \n",
       "6         10062.80       0  \n",
       "7        119346.88       1  \n",
       "8         74940.50       0  \n",
       "9         71725.73       0  "
      ]
     },
     "metadata": {},
     "output_type": "display_data"
    },
    {
     "name": "stdout",
     "output_type": "stream",
     "text": [
      "<class 'pandas.core.frame.DataFrame'>\n",
      "RangeIndex: 10000 entries, 0 to 9999\n",
      "Data columns (total 14 columns):\n",
      " #   Column           Non-Null Count  Dtype  \n",
      "---  ------           --------------  -----  \n",
      " 0   RowNumber        10000 non-null  int64  \n",
      " 1   CustomerId       10000 non-null  int64  \n",
      " 2   Surname          10000 non-null  object \n",
      " 3   CreditScore      10000 non-null  int64  \n",
      " 4   Geography        10000 non-null  object \n",
      " 5   Gender           10000 non-null  object \n",
      " 6   Age              10000 non-null  int64  \n",
      " 7   Tenure           9091 non-null   float64\n",
      " 8   Balance          10000 non-null  float64\n",
      " 9   NumOfProducts    10000 non-null  int64  \n",
      " 10  HasCrCard        10000 non-null  int64  \n",
      " 11  IsActiveMember   10000 non-null  int64  \n",
      " 12  EstimatedSalary  10000 non-null  float64\n",
      " 13  Exited           10000 non-null  int64  \n",
      "dtypes: float64(3), int64(8), object(3)\n",
      "memory usage: 1.1+ MB\n"
     ]
    }
   ],
   "source": [
    "# читаем данные из .csv файла с помощью метода read_csv()\n",
    "users = pd.read_csv('Churn.csv')\n",
    "# выведем первые 10 строк таблицы с помощью метода head()\n",
    "display(users.head(10))\n",
    "# с помощью метода info() изучим структуры таблицы: типы данных, количество строк, столбцов, пропущенных данных.\n",
    "users.info()"
   ]
  },
  {
   "cell_type": "markdown",
   "metadata": {},
   "source": [
    "## 1.2 Подготовка признаков"
   ]
  },
  {
   "cell_type": "markdown",
   "metadata": {},
   "source": [
    "**1)** Признаки `RowNumber`, `CustomerId` и `Surname` не несут в себе информации, необходимой для дальнейшей классификации. Удалим их."
   ]
  },
  {
   "cell_type": "code",
   "execution_count": 3,
   "metadata": {},
   "outputs": [],
   "source": [
    "users = users.drop(['RowNumber', 'CustomerId', 'Surname'], axis=1)"
   ]
  },
  {
   "cell_type": "markdown",
   "metadata": {},
   "source": [
    "**2)** Посмотрим на распределения числовых признаков"
   ]
  },
  {
   "cell_type": "code",
   "execution_count": 4,
   "metadata": {},
   "outputs": [],
   "source": [
    "def show_hists(data, data_label, num_bins, rug=False, log_scale=False):\n",
    "    \"\"\"\n",
    "    input: data - данные для построения гистограммы\n",
    "           data_label - описание данных\n",
    "           num_bins - количество ячеек\n",
    "    output: None\n",
    "    description: Функция строит гистограмму и boxplot для выбранного параметра:\n",
    "                - Плотность распределения (методом distplot() библиотеки seaborn)\n",
    "                - Boxplot (метод boxplot() библиотеки seaborn)\n",
    "    \"\"\"\n",
    "    sns.set()\n",
    "    f, axes = plt.subplots(1, 2, figsize=(16, 4))\n",
    "    axes[0].set_title(data_label + \". Плотность распределения\", fontsize=18)\n",
    "    axes[0].set_ylabel('плотность', fontsize=15)\n",
    "    sns.distplot(data, bins=num_bins, rug=rug, ax=axes[0])\n",
    "    axes[1].set_title(data_label + \". Boxplot\", fontsize=18)\n",
    "    sns.boxplot(data=users, x=data_label, ax=axes[1])\n",
    "    plt.show()"
   ]
  },
  {
   "cell_type": "code",
   "execution_count": 5,
   "metadata": {
    "scrolled": false
   },
   "outputs": [
    {
     "name": "stderr",
     "output_type": "stream",
     "text": [
      "/Users/forcemajor01/opt/anaconda3/lib/python3.9/site-packages/seaborn/distributions.py:2619: FutureWarning: `distplot` is a deprecated function and will be removed in a future version. Please adapt your code to use either `displot` (a figure-level function with similar flexibility) or `histplot` (an axes-level function for histograms).\n",
      "  warnings.warn(msg, FutureWarning)\n"
     ]
    },
    {
     "data": {
      "image/png": "[encoded data removed]",
      "text/plain": [
       "<Figure size 1600x400 with 2 Axes>"
      ]
     },
     "metadata": {},
     "output_type": "display_data"
    },
    {
     "name": "stderr",
     "output_type": "stream",
     "text": [
      "/Users/forcemajor01/opt/anaconda3/lib/python3.9/site-packages/seaborn/distributions.py:2619: FutureWarning: `distplot` is a deprecated function and will be removed in a future version. Please adapt your code to use either `displot` (a figure-level function with similar flexibility) or `histplot` (an axes-level function for histograms).\n",
      "  warnings.warn(msg, FutureWarning)\n"
     ]
    },
    {
     "data": {
      "image/png": "[encoded data removed]",
      "text/plain": [
       "<Figure size 1600x400 with 2 Axes>"
      ]
     },
     "metadata": {},
     "output_type": "display_data"
    },
    {
     "name": "stderr",
     "output_type": "stream",
     "text": [
      "/Users/forcemajor01/opt/anaconda3/lib/python3.9/site-packages/seaborn/distributions.py:2619: FutureWarning: `distplot` is a deprecated function and will be removed in a future version. Please adapt your code to use either `displot` (a figure-level function with similar flexibility) or `histplot` (an axes-level function for histograms).\n",
      "  warnings.warn(msg, FutureWarning)\n"
     ]
    },
    {
     "data": {
      "image/png": "[encoded data removed]",
      "text/plain": [
       "<Figure size 1600x400 with 2 Axes>"
      ]
     },
     "metadata": {},
     "output_type": "display_data"
    },
    {
     "name": "stderr",
     "output_type": "stream",
     "text": [
      "/Users/forcemajor01/opt/anaconda3/lib/python3.9/site-packages/seaborn/distributions.py:2619: FutureWarning: `distplot` is a deprecated function and will be removed in a future version. Please adapt your code to use either `displot` (a figure-level function with similar flexibility) or `histplot` (an axes-level function for histograms).\n",
      "  warnings.warn(msg, FutureWarning)\n"
     ]
    },
    {
     "data": {
      "image/png": "[encoded data removed]",
      "text/plain": [
       "<Figure size 1600x400 with 2 Axes>"
      ]
     },
     "metadata": {},
     "output_type": "display_data"
    }
   ],
   "source": [
    "numerics = ['CreditScore', 'Age', 'Balance', 'EstimatedSalary']\n",
    "for column in numerics:\n",
    "    show_hists(users[column], column, num_bins=30)"
   ]
  },
  {
   "cell_type": "markdown",
   "metadata": {},
   "source": [
    "- В признаках `CreditScore`, `Age` есть выбросы. Найдём их долю от общего количества данных."
   ]
  },
  {
   "cell_type": "code",
   "execution_count": 6,
   "metadata": {},
   "outputs": [
    {
     "name": "stdout",
     "output_type": "stream",
     "text": [
      "Доля выбросов в параметре Age: 3.59 %\n"
     ]
    }
   ],
   "source": [
    "# квантили считаем методом quantile()\n",
    "# граница выбросов считается по формуле  [ q.75 + (q.75 - q.25)*1.5 ]\n",
    "max_age = (users['Age'].quantile(0.75) - users['Age'].quantile(0.25))*1.5 + users['Age'].quantile(0.75)\n",
    "rate = round(len(users.loc[users['Age'] > max_age]) / len(users) * 100, 2)\n",
    "print('Доля выбросов в параметре {}: {} %'.format('Age', rate))"
   ]
  },
  {
   "cell_type": "code",
   "execution_count": 7,
   "metadata": {},
   "outputs": [
    {
     "name": "stdout",
     "output_type": "stream",
     "text": [
      "Доля выбросов в параметре CreditScore: 0.15 %\n"
     ]
    }
   ],
   "source": [
    "# граница выбросов считается по формуле  [ q.25 - (q.75 - q.25)*1.5 ]\n",
    "min_score = users['CreditScore'].quantile(0.25) - \\\n",
    "            (users['CreditScore'].quantile(0.75) - users['CreditScore'].quantile(0.25))*1.5\n",
    "rate = round(len(users.loc[users['CreditScore'] < min_score]) / len(users) * 100, 2)\n",
    "print('Доля выбросов в параметре {}: {} %'.format('CreditScore', rate))"
   ]
  },
  {
   "cell_type": "markdown",
   "metadata": {},
   "source": [
    "Общая доля выбросов небольшая (меньше 4%). Не будем пока их удалять."
   ]
  },
  {
   "cell_type": "markdown",
   "metadata": {},
   "source": [
    "- К числовым признакам `CreditScore`, `Age`, `Balance`, `EstimatedSalary` применим масштабирование с помощью `StandardScaler` библиотеки `sklearn`"
   ]
  },
  {
   "cell_type": "code",
   "execution_count": 8,
   "metadata": {},
   "outputs": [],
   "source": [
    "scaler = StandardScaler()\n",
    "users[numerics] = scaler.fit_transform(users[numerics])"
   ]
  },
  {
   "cell_type": "markdown",
   "metadata": {},
   "source": [
    "**3)** Посмотрим на распределения категориальных признаков."
   ]
  },
  {
   "cell_type": "code",
   "execution_count": 9,
   "metadata": {},
   "outputs": [],
   "source": [
    "def show_hists(data, data_label1, data_label2=''):\n",
    "    \"\"\"\n",
    "    input: data - данные для построения гистограммы\n",
    "           data_label1,2 - названия признаков\n",
    "    output: None\n",
    "    description: Функция строит countplot для двух признаков\n",
    "    \"\"\"\n",
    "    sns.set()\n",
    "    f, axes = plt.subplots(1, 2, figsize=(16, 4))\n",
    "    axes[0].set_title(data_label1 + \". CountPlot\", fontsize=18)\n",
    "    sns.countplot(data=users, x=data_label1, ax=axes[0])\n",
    "    if data_label2 != '':\n",
    "        axes[1].set_title(data_label2 + \". CountPlot\", fontsize=18)\n",
    "        sns.countplot(data=users, x=data_label2, ax=axes[1])\n",
    "    plt.show()"
   ]
  },
  {
   "cell_type": "code",
   "execution_count": 10,
   "metadata": {},
   "outputs": [
    {
     "data": {
      "image/png": "[encoded data removed]",
      "text/plain": [
       "<Figure size 1600x400 with 2 Axes>"
      ]
     },
     "metadata": {},
     "output_type": "display_data"
    },
    {
     "data": {
      "image/png": "[encoded data removed]",
      "text/plain": [
       "<Figure size 1600x400 with 2 Axes>"
      ]
     },
     "metadata": {},
     "output_type": "display_data"
    },
    {
     "data": {
      "image/png": "[encoded data removed]",
      "text/plain": [
       "<Figure size 1600x400 with 2 Axes>"
      ]
     },
     "metadata": {},
     "output_type": "display_data"
    },
    {
     "data": {
      "image/png": "[encoded data removed]",
      "text/plain": [
       "<Figure size 1600x400 with 2 Axes>"
      ]
     },
     "metadata": {},
     "output_type": "display_data"
    }
   ],
   "source": [
    "categoricals = ['Geography', 'Gender', 'Tenure', 'NumOfProducts', 'HasCrCard', 'IsActiveMember', 'Exited', '']\n",
    "for i in range(len(categoricals)//2):\n",
    "    show_hists(users, categoricals[2*i], categoricals[2*i+1])"
   ]
  },
  {
   "cell_type": "markdown",
   "metadata": {},
   "source": [
    "- Целевой признак `Exited` распределён примерно 4:1.\n",
    "- Количество категорий в признаках `Geography`, `Gender` небольшое. Преобразуем их методом One-Hot Encoding."
   ]
  },
  {
   "cell_type": "code",
   "execution_count": 11,
   "metadata": {},
   "outputs": [],
   "source": [
    "# для преобразования воспользуемся методом pd.get_dummies\n",
    "# параметр drop_first=True для удаления избыточного столбца данных\n",
    "users = pd.get_dummies(users, drop_first=True)"
   ]
  },
  {
   "cell_type": "markdown",
   "metadata": {},
   "source": [
    "**4)** Преобразуем типы данных признаков `NumOfProducts`, `HasCrCard`, `IsActiveMember`, `Exited` в `int8` для экономии места."
   ]
  },
  {
   "cell_type": "code",
   "execution_count": 12,
   "metadata": {},
   "outputs": [],
   "source": [
    "for column in ['NumOfProducts', 'HasCrCard', 'IsActiveMember', 'Exited']:\n",
    "    users[column] = users[column].astype('int8')"
   ]
  },
  {
   "cell_type": "markdown",
   "metadata": {},
   "source": [
    "## 1.3 Преобразование признака `Tenure`"
   ]
  },
  {
   "cell_type": "markdown",
   "metadata": {},
   "source": [
    "- В столбце `Tenure` есть пропущенные данные (около 10% пропусков). Данные могли отсутствовать изначально или быть утеряны из-за сбоев в системе при выгрузке базы.\n",
    "- Попробуем построить модель, предсказывающую данный параметр на основе имеющихся данных."
   ]
  },
  {
   "cell_type": "code",
   "execution_count": 13,
   "metadata": {},
   "outputs": [
    {
     "name": "stderr",
     "output_type": "stream",
     "text": [
      "/Users/forcemajor01/opt/anaconda3/lib/python3.9/site-packages/pandas/core/algorithms.py:798: FutureWarning: In a future version, the Index constructor will not infer numeric dtypes when passed object-dtype sequences (matching Series behavior)\n",
      "  uniques = Index(uniques)\n"
     ]
    }
   ],
   "source": [
    "users.loc[users['Tenure'].isna(), 'Tenure'] = users['Tenure'].median()\n",
    "users['Tenure'] = users['Tenure'].astype('object')\n",
    "users = pd.get_dummies(users, drop_first=True)"
   ]
  },
  {
   "cell_type": "markdown",
   "metadata": {},
   "source": [
    "- Выведем информацию о получившейся таблице."
   ]
  },
  {
   "cell_type": "code",
   "execution_count": 14,
   "metadata": {},
   "outputs": [
    {
     "name": "stdout",
     "output_type": "stream",
     "text": [
      "<class 'pandas.core.frame.DataFrame'>\n",
      "RangeIndex: 10000 entries, 0 to 9999\n",
      "Data columns (total 21 columns):\n",
      " #   Column             Non-Null Count  Dtype  \n",
      "---  ------             --------------  -----  \n",
      " 0   CreditScore        10000 non-null  float64\n",
      " 1   Age                10000 non-null  float64\n",
      " 2   Balance            10000 non-null  float64\n",
      " 3   NumOfProducts      10000 non-null  int8   \n",
      " 4   HasCrCard          10000 non-null  int8   \n",
      " 5   IsActiveMember     10000 non-null  int8   \n",
      " 6   EstimatedSalary    10000 non-null  float64\n",
      " 7   Exited             10000 non-null  int8   \n",
      " 8   Geography_Germany  10000 non-null  uint8  \n",
      " 9   Geography_Spain    10000 non-null  uint8  \n",
      " 10  Gender_Male        10000 non-null  uint8  \n",
      " 11  Tenure_1.0         10000 non-null  uint8  \n",
      " 12  Tenure_2.0         10000 non-null  uint8  \n",
      " 13  Tenure_3.0         10000 non-null  uint8  \n",
      " 14  Tenure_4.0         10000 non-null  uint8  \n",
      " 15  Tenure_5.0         10000 non-null  uint8  \n",
      " 16  Tenure_6.0         10000 non-null  uint8  \n",
      " 17  Tenure_7.0         10000 non-null  uint8  \n",
      " 18  Tenure_8.0         10000 non-null  uint8  \n",
      " 19  Tenure_9.0         10000 non-null  uint8  \n",
      " 20  Tenure_10.0        10000 non-null  uint8  \n",
      "dtypes: float64(4), int8(4), uint8(13)\n",
      "memory usage: 478.6 KB\n"
     ]
    }
   ],
   "source": [
    "users.info()"
   ]
  },
  {
   "cell_type": "code",
   "execution_count": 15,
   "metadata": {},
   "outputs": [
    {
     "data": {
      "text/html": [
       "<div>\n",
       "<style scoped>\n",
       "    .dataframe tbody tr th:only-of-type {\n",
       "        vertical-align: middle;\n",
       "    }\n",
       "\n",
       "    .dataframe tbody tr th {\n",
       "        vertical-align: top;\n",
       "    }\n",
       "\n",
       "    .dataframe thead th {\n",
       "        text-align: right;\n",
       "    }\n",
       "</style>\n",
       "<table border=\"1\" class=\"dataframe\">\n",
       "  <thead>\n",
       "    <tr style=\"text-align: right;\">\n",
       "      <th></th>\n",
       "      <th>CreditScore</th>\n",
       "      <th>Age</th>\n",
       "      <th>Balance</th>\n",
       "      <th>NumOfProducts</th>\n",
       "      <th>HasCrCard</th>\n",
       "      <th>IsActiveMember</th>\n",
       "      <th>EstimatedSalary</th>\n",
       "      <th>Exited</th>\n",
       "      <th>Geography_Germany</th>\n",
       "      <th>Geography_Spain</th>\n",
       "      <th>...</th>\n",
       "      <th>Tenure_1.0</th>\n",
       "      <th>Tenure_2.0</th>\n",
       "      <th>Tenure_3.0</th>\n",
       "      <th>Tenure_4.0</th>\n",
       "      <th>Tenure_5.0</th>\n",
       "      <th>Tenure_6.0</th>\n",
       "      <th>Tenure_7.0</th>\n",
       "      <th>Tenure_8.0</th>\n",
       "      <th>Tenure_9.0</th>\n",
       "      <th>Tenure_10.0</th>\n",
       "    </tr>\n",
       "  </thead>\n",
       "  <tbody>\n",
       "    <tr>\n",
       "      <th>0</th>\n",
       "      <td>-0.326221</td>\n",
       "      <td>0.293517</td>\n",
       "      <td>-1.225848</td>\n",
       "      <td>1</td>\n",
       "      <td>1</td>\n",
       "      <td>1</td>\n",
       "      <td>0.021886</td>\n",
       "      <td>1</td>\n",
       "      <td>0</td>\n",
       "      <td>0</td>\n",
       "      <td>...</td>\n",
       "      <td>0</td>\n",
       "      <td>1</td>\n",
       "      <td>0</td>\n",
       "      <td>0</td>\n",
       "      <td>0</td>\n",
       "      <td>0</td>\n",
       "      <td>0</td>\n",
       "      <td>0</td>\n",
       "      <td>0</td>\n",
       "      <td>0</td>\n",
       "    </tr>\n",
       "    <tr>\n",
       "      <th>1</th>\n",
       "      <td>-0.440036</td>\n",
       "      <td>0.198164</td>\n",
       "      <td>0.117350</td>\n",
       "      <td>1</td>\n",
       "      <td>0</td>\n",
       "      <td>1</td>\n",
       "      <td>0.216534</td>\n",
       "      <td>0</td>\n",
       "      <td>0</td>\n",
       "      <td>1</td>\n",
       "      <td>...</td>\n",
       "      <td>1</td>\n",
       "      <td>0</td>\n",
       "      <td>0</td>\n",
       "      <td>0</td>\n",
       "      <td>0</td>\n",
       "      <td>0</td>\n",
       "      <td>0</td>\n",
       "      <td>0</td>\n",
       "      <td>0</td>\n",
       "      <td>0</td>\n",
       "    </tr>\n",
       "    <tr>\n",
       "      <th>2</th>\n",
       "      <td>-1.536794</td>\n",
       "      <td>0.293517</td>\n",
       "      <td>1.333053</td>\n",
       "      <td>3</td>\n",
       "      <td>1</td>\n",
       "      <td>0</td>\n",
       "      <td>0.240687</td>\n",
       "      <td>1</td>\n",
       "      <td>0</td>\n",
       "      <td>0</td>\n",
       "      <td>...</td>\n",
       "      <td>0</td>\n",
       "      <td>0</td>\n",
       "      <td>0</td>\n",
       "      <td>0</td>\n",
       "      <td>0</td>\n",
       "      <td>0</td>\n",
       "      <td>0</td>\n",
       "      <td>1</td>\n",
       "      <td>0</td>\n",
       "      <td>0</td>\n",
       "    </tr>\n",
       "    <tr>\n",
       "      <th>3</th>\n",
       "      <td>0.501521</td>\n",
       "      <td>0.007457</td>\n",
       "      <td>-1.225848</td>\n",
       "      <td>2</td>\n",
       "      <td>0</td>\n",
       "      <td>0</td>\n",
       "      <td>-0.108918</td>\n",
       "      <td>0</td>\n",
       "      <td>0</td>\n",
       "      <td>0</td>\n",
       "      <td>...</td>\n",
       "      <td>1</td>\n",
       "      <td>0</td>\n",
       "      <td>0</td>\n",
       "      <td>0</td>\n",
       "      <td>0</td>\n",
       "      <td>0</td>\n",
       "      <td>0</td>\n",
       "      <td>0</td>\n",
       "      <td>0</td>\n",
       "      <td>0</td>\n",
       "    </tr>\n",
       "    <tr>\n",
       "      <th>4</th>\n",
       "      <td>2.063884</td>\n",
       "      <td>0.388871</td>\n",
       "      <td>0.785728</td>\n",
       "      <td>1</td>\n",
       "      <td>1</td>\n",
       "      <td>1</td>\n",
       "      <td>-0.365276</td>\n",
       "      <td>0</td>\n",
       "      <td>0</td>\n",
       "      <td>1</td>\n",
       "      <td>...</td>\n",
       "      <td>0</td>\n",
       "      <td>1</td>\n",
       "      <td>0</td>\n",
       "      <td>0</td>\n",
       "      <td>0</td>\n",
       "      <td>0</td>\n",
       "      <td>0</td>\n",
       "      <td>0</td>\n",
       "      <td>0</td>\n",
       "      <td>0</td>\n",
       "    </tr>\n",
       "    <tr>\n",
       "      <th>5</th>\n",
       "      <td>-0.057205</td>\n",
       "      <td>0.484225</td>\n",
       "      <td>0.597329</td>\n",
       "      <td>2</td>\n",
       "      <td>1</td>\n",
       "      <td>0</td>\n",
       "      <td>0.863650</td>\n",
       "      <td>1</td>\n",
       "      <td>0</td>\n",
       "      <td>1</td>\n",
       "      <td>...</td>\n",
       "      <td>0</td>\n",
       "      <td>0</td>\n",
       "      <td>0</td>\n",
       "      <td>0</td>\n",
       "      <td>0</td>\n",
       "      <td>0</td>\n",
       "      <td>0</td>\n",
       "      <td>1</td>\n",
       "      <td>0</td>\n",
       "      <td>0</td>\n",
       "    </tr>\n",
       "    <tr>\n",
       "      <th>6</th>\n",
       "      <td>1.774174</td>\n",
       "      <td>1.056346</td>\n",
       "      <td>-1.225848</td>\n",
       "      <td>2</td>\n",
       "      <td>1</td>\n",
       "      <td>1</td>\n",
       "      <td>-1.565487</td>\n",
       "      <td>0</td>\n",
       "      <td>0</td>\n",
       "      <td>0</td>\n",
       "      <td>...</td>\n",
       "      <td>0</td>\n",
       "      <td>0</td>\n",
       "      <td>0</td>\n",
       "      <td>0</td>\n",
       "      <td>0</td>\n",
       "      <td>0</td>\n",
       "      <td>1</td>\n",
       "      <td>0</td>\n",
       "      <td>0</td>\n",
       "      <td>0</td>\n",
       "    </tr>\n",
       "    <tr>\n",
       "      <th>7</th>\n",
       "      <td>-2.840488</td>\n",
       "      <td>-0.946079</td>\n",
       "      <td>0.618019</td>\n",
       "      <td>4</td>\n",
       "      <td>1</td>\n",
       "      <td>0</td>\n",
       "      <td>0.334854</td>\n",
       "      <td>1</td>\n",
       "      <td>1</td>\n",
       "      <td>0</td>\n",
       "      <td>...</td>\n",
       "      <td>0</td>\n",
       "      <td>0</td>\n",
       "      <td>0</td>\n",
       "      <td>1</td>\n",
       "      <td>0</td>\n",
       "      <td>0</td>\n",
       "      <td>0</td>\n",
       "      <td>0</td>\n",
       "      <td>0</td>\n",
       "      <td>0</td>\n",
       "    </tr>\n",
       "    <tr>\n",
       "      <th>8</th>\n",
       "      <td>-1.547141</td>\n",
       "      <td>0.484225</td>\n",
       "      <td>1.050820</td>\n",
       "      <td>2</td>\n",
       "      <td>0</td>\n",
       "      <td>1</td>\n",
       "      <td>-0.437329</td>\n",
       "      <td>0</td>\n",
       "      <td>0</td>\n",
       "      <td>0</td>\n",
       "      <td>...</td>\n",
       "      <td>0</td>\n",
       "      <td>0</td>\n",
       "      <td>0</td>\n",
       "      <td>1</td>\n",
       "      <td>0</td>\n",
       "      <td>0</td>\n",
       "      <td>0</td>\n",
       "      <td>0</td>\n",
       "      <td>0</td>\n",
       "      <td>0</td>\n",
       "    </tr>\n",
       "    <tr>\n",
       "      <th>9</th>\n",
       "      <td>0.346319</td>\n",
       "      <td>-1.136786</td>\n",
       "      <td>0.931463</td>\n",
       "      <td>1</td>\n",
       "      <td>1</td>\n",
       "      <td>1</td>\n",
       "      <td>-0.493230</td>\n",
       "      <td>0</td>\n",
       "      <td>0</td>\n",
       "      <td>0</td>\n",
       "      <td>...</td>\n",
       "      <td>0</td>\n",
       "      <td>1</td>\n",
       "      <td>0</td>\n",
       "      <td>0</td>\n",
       "      <td>0</td>\n",
       "      <td>0</td>\n",
       "      <td>0</td>\n",
       "      <td>0</td>\n",
       "      <td>0</td>\n",
       "      <td>0</td>\n",
       "    </tr>\n",
       "  </tbody>\n",
       "</table>\n",
       "<p>10 rows × 21 columns</p>\n",
       "</div>"
      ],
      "text/plain": [
       "   CreditScore       Age   Balance  NumOfProducts  HasCrCard  IsActiveMember  \\\n",
       "0    -0.326221  0.293517 -1.225848              1          1               1   \n",
       "1    -0.440036  0.198164  0.117350              1          0               1   \n",
       "2    -1.536794  0.293517  1.333053              3          1               0   \n",
       "3     0.501521  0.007457 -1.225848              2          0               0   \n",
       "4     2.063884  0.388871  0.785728              1          1               1   \n",
       "5    -0.057205  0.484225  0.597329              2          1               0   \n",
       "6     1.774174  1.056346 -1.225848              2          1               1   \n",
       "7    -2.840488 -0.946079  0.618019              4          1               0   \n",
       "8    -1.547141  0.484225  1.050820              2          0               1   \n",
       "9     0.346319 -1.136786  0.931463              1          1               1   \n",
       "\n",
       "   EstimatedSalary  Exited  Geography_Germany  Geography_Spain  ...  \\\n",
       "0         0.021886       1                  0                0  ...   \n",
       "1         0.216534       0                  0                1  ...   \n",
       "2         0.240687       1                  0                0  ...   \n",
       "3        -0.108918       0                  0                0  ...   \n",
       "4        -0.365276       0                  0                1  ...   \n",
       "5         0.863650       1                  0                1  ...   \n",
       "6        -1.565487       0                  0                0  ...   \n",
       "7         0.334854       1                  1                0  ...   \n",
       "8        -0.437329       0                  0                0  ...   \n",
       "9        -0.493230       0                  0                0  ...   \n",
       "\n",
       "   Tenure_1.0  Tenure_2.0  Tenure_3.0  Tenure_4.0  Tenure_5.0  Tenure_6.0  \\\n",
       "0           0           1           0           0           0           0   \n",
       "1           1           0           0           0           0           0   \n",
       "2           0           0           0           0           0           0   \n",
       "3           1           0           0           0           0           0   \n",
       "4           0           1           0           0           0           0   \n",
       "5           0           0           0           0           0           0   \n",
       "6           0           0           0           0           0           0   \n",
       "7           0           0           0           1           0           0   \n",
       "8           0           0           0           1           0           0   \n",
       "9           0           1           0           0           0           0   \n",
       "\n",
       "   Tenure_7.0  Tenure_8.0  Tenure_9.0  Tenure_10.0  \n",
       "0           0           0           0            0  \n",
       "1           0           0           0            0  \n",
       "2           0           1           0            0  \n",
       "3           0           0           0            0  \n",
       "4           0           0           0            0  \n",
       "5           0           1           0            0  \n",
       "6           1           0           0            0  \n",
       "7           0           0           0            0  \n",
       "8           0           0           0            0  \n",
       "9           0           0           0            0  \n",
       "\n",
       "[10 rows x 21 columns]"
      ]
     },
     "metadata": {},
     "output_type": "display_data"
    }
   ],
   "source": [
    "display(users.head(10))"
   ]
  },
  {
   "cell_type": "markdown",
   "metadata": {},
   "source": [
    "### Выводы"
   ]
  },
  {
   "cell_type": "markdown",
   "metadata": {},
   "source": [
    "- Данные успешно загружены и проверены на соответствие описанию. Дубликатов нет. Типы данных преобразованы в соответствии с хранимой информацией\n",
    "- Признаки `RowNumber`, `CustomerId` и `Surname` удалены, так как целевой признак от них никак не зависит.\n",
    "- Были рассмотрены распределения признаков. В `CreditScore`, `Age` найдено около 4% выбросов. Пока оставлены как есть.\n",
    "- Числовые признаки приведены к стандартному виду (среднее = 0, стандартное отклонение = 1)\n",
    "- Категориальные признаки преобразованы методом One-Hot Encoder.\n",
    "- Целевой признак распределён в сооотношении **4:1**\n",
    "- В признаке `Tenure` обнаружено около 10% пропусков. Попытка построить классификационную модель для заполнения пропусков не принесла существенных результатов (качество модели 12%, при случайном заполнении 9%). Данный признак преобразован прямым кодированием One-Hot Encoder."
   ]
  },
  {
   "cell_type": "markdown",
   "metadata": {},
   "source": [
    "# 2. Исследование задачи"
   ]
  },
  {
   "cell_type": "markdown",
   "metadata": {},
   "source": [
    "- Для начала разделим данные на признаки и целевой признак"
   ]
  },
  {
   "cell_type": "code",
   "execution_count": 16,
   "metadata": {},
   "outputs": [],
   "source": [
    "features = users.drop('Exited', axis=1)\n",
    "target = users['Exited']"
   ]
  },
  {
   "cell_type": "markdown",
   "metadata": {},
   "source": [
    "- Разделим данные на обучающую, валидационную и тестовую выборки в пропорции 3:1:1 соответственно (60% на обучающию и по 20% данных на валидационную и тестовую выборки)."
   ]
  },
  {
   "cell_type": "code",
   "execution_count": 17,
   "metadata": {},
   "outputs": [],
   "source": [
    "# разделение проведём с помощью функции train_test_split библиотеки sklearn\n",
    "X, X_test, y, y_test = train_test_split(features, target, test_size=0.2, random_state=123)\n",
    "X_train, X_valid, y_train, y_valid = train_test_split(X, y, test_size=0.25, random_state=123)"
   ]
  },
  {
   "cell_type": "code",
   "execution_count": 18,
   "metadata": {},
   "outputs": [
    {
     "name": "stdout",
     "output_type": "stream",
     "text": [
      "Размеры наборов данных:\n",
      "X_train:  (6000, 20)\n",
      "X_valid:  (2000, 20)\n",
      "X_test:   (2000, 20)\n"
     ]
    }
   ],
   "source": [
    "# выведем размеры получившихся выборок\n",
    "print('Размеры наборов данных:')\n",
    "print('X_train: ', X_train.shape)\n",
    "print('X_valid: ', X_valid.shape)\n",
    "print('X_test:  ', X_test.shape)"
   ]
  },
  {
   "cell_type": "markdown",
   "metadata": {},
   "source": [
    "- Попробуем обучить различные классификационные модели без учёта дисбаланса классов."
   ]
  },
  {
   "cell_type": "markdown",
   "metadata": {},
   "source": [
    "## 2.1 Решающее дерево"
   ]
  },
  {
   "cell_type": "markdown",
   "metadata": {},
   "source": [
    "- Инициируем модель решающего дерева DecisionTreeClassifier\n",
    "- Выделим гиперпараметры для настройки модели:\n",
    "    - `max_depth` - максимальная глубина древа\n",
    "    - `min_samples_split` - минимальное количество объектов в узле\n",
    "    - `min_samples_leaf` - минимальное количество объектов в листе\n",
    "    - `criterion` (\"gini\" или \"entropy\") - функция измерения качества разделения\n",
    "- Критерием проверки качества модели будет `f1` и `roc_auc`."
   ]
  },
  {
   "cell_type": "code",
   "execution_count": 19,
   "metadata": {},
   "outputs": [],
   "source": [
    "def decision_tree(X_train, X_valid, y_train, y_valid, cw=None):\n",
    "    \"\"\"\n",
    "    input: X_train, X_valid, y_train, y_valid - обучающие и валидационные выборки признаков и целевого признака\n",
    "            cw - параметр class_weight для модели решающего дерева\n",
    "    output: None\n",
    "    description: функция обучает модель решающего дерева DecisionTreeClassifier с различными сочетаниями гиперпараметров;\n",
    "                 метрики качества модели: f1 и roc_auc;\n",
    "                 функция выводит наилучшие значения метрик и значения гиперпараметров наилучшей модели.\n",
    "    \"\"\"\n",
    "    # в параметрах best_params_f1 и best_f1 будем хранить наилучшие параметры для модели и наивысшую f1 метрику соответственно\n",
    "    best_params_f1 = []\n",
    "    best_f1 = 0\n",
    "    # аналогично для roc_auc метрики.\n",
    "    best_params_roc_auc = []\n",
    "    best_roc_auc = 0.5\n",
    "    # проходим в циклах по всем выбранным гиперпараметрам\n",
    "    for max_depth in range(2,10):\n",
    "        for min_samples_split in range(2,6):\n",
    "            for min_samples_leaf in range(1,10):\n",
    "                for criterion in ['gini', 'entropy']:\n",
    "                    # инициация модели с текущими гиперпараметрами\n",
    "                    model_dt_clf = DecisionTreeClassifier(random_state=123,\n",
    "                                                          max_depth=max_depth,\n",
    "                                                          min_samples_split=min_samples_split,\n",
    "                                                          min_samples_leaf=min_samples_leaf,\n",
    "                                                          criterion=criterion,\n",
    "                                                          class_weight=cw)\n",
    "                    # обучение модели на тренировочной выборке\n",
    "                    model_dt_clf.fit(X_train, y_train)\n",
    "                    # поиск предсказаний модели на валидационной выбоке\n",
    "                    predictions = model_dt_clf.predict(X_valid)\n",
    "                    # вычисление f1 модели методом f1_score\n",
    "                    f1 = f1_score(y_valid, predictions)\n",
    "                    # если текущее значение метрики f1 выше предыдущего лучшего значения, \n",
    "                    # сохраняем параметры модели и текущую метрику f1\n",
    "                    if f1 > best_f1:\n",
    "                        best_params_f1 = [max_depth, min_samples_split, min_samples_leaf, criterion]\n",
    "                        best_f1 = f1\n",
    "                    # аналогично для метрики roc_auc\n",
    "                    roc_auc = roc_auc_score(y_valid, predictions)\n",
    "                    if roc_auc > best_roc_auc:\n",
    "                        best_params_roc_auc = [max_depth, min_samples_split, min_samples_leaf, criterion]\n",
    "                        best_roc_auc = roc_auc\n",
    "    \n",
    "    # вывод наилучшей метрики f1 и параметров модели.\n",
    "    print('''Наилучшая метрика f1: {}\n",
    "    Парамтеры модели:\n",
    "       max_depth = {}\n",
    "       min_samples_split = {}\n",
    "       min_samples_leaf = {}\n",
    "       criterion = {} \\n'''.format(round(best_f1, 3),\n",
    "                                 best_params_f1[0],\n",
    "                                 best_params_f1[1],\n",
    "                                 best_params_f1[2],\n",
    "                                 best_params_f1[3]\n",
    "                                ))\n",
    "    \n",
    "    # вывод наилучшей метрики roc_auc и параметров модели.\n",
    "    print('''Наилучшая метрика roc_auc: {}\n",
    "    Парамтеры модели:\n",
    "       max_depth = {}\n",
    "       min_samples_split = {}\n",
    "       min_samples_leaf = {}\n",
    "       criterion = {} '''.format(round(best_roc_auc, 3),\n",
    "                                 best_params_roc_auc[0],\n",
    "                                 best_params_roc_auc[1],\n",
    "                                 best_params_roc_auc[2],\n",
    "                                 best_params_roc_auc[3]\n",
    "                                ))"
   ]
  },
  {
   "cell_type": "code",
   "execution_count": 20,
   "metadata": {},
   "outputs": [
    {
     "name": "stdout",
     "output_type": "stream",
     "text": [
      "Наилучшая метрика f1: 0.569\n",
      "    Парамтеры модели:\n",
      "       max_depth = 5\n",
      "       min_samples_split = 2\n",
      "       min_samples_leaf = 4\n",
      "       criterion = gini \n",
      "\n",
      "Наилучшая метрика roc_auc: 0.711\n",
      "    Парамтеры модели:\n",
      "       max_depth = 5\n",
      "       min_samples_split = 2\n",
      "       min_samples_leaf = 4\n",
      "       criterion = gini \n"
     ]
    }
   ],
   "source": [
    "decision_tree(X_train, X_valid, y_train, y_valid)"
   ]
  },
  {
   "cell_type": "markdown",
   "metadata": {},
   "source": [
    "- Наилучшая метрика f1 для решающего дерева 0.57 (не достаточно по техническому заданию).\n",
    "- Наилучший результат по метрикам f1 и roc_auc достигается при одинаковой настройке гиперпараметров.\n",
    "- Попробуем улучшить результат на других моделях"
   ]
  },
  {
   "cell_type": "markdown",
   "metadata": {},
   "source": [
    "## 2.2 Случайный лес"
   ]
  },
  {
   "cell_type": "markdown",
   "metadata": {},
   "source": [
    "- Инициируем модель случайного леса RandomForestClassifier\n",
    "- Выделим гиперпараметры для настройки модели:\n",
    "    - `n_estimators` - количество деревьев\n",
    "    - `max_depth` - максимальная глубина древа\n",
    "    - `min_samples_split` - минимальное количество объектов в узле\n",
    "    - `min_samples_leaf` - минимальное количество объектов в листе\n",
    "- Критерием проверки качества модели будет `f1` и `roc_auc`."
   ]
  },
  {
   "cell_type": "code",
   "execution_count": 21,
   "metadata": {},
   "outputs": [],
   "source": [
    "def random_forest(X_train, X_valid, y_train, y_valid, cw=None):\n",
    "    \"\"\"\n",
    "    input: X_train, X_valid, y_train, y_valid - обучающие и валидационные выборки признаков и целевого признака\n",
    "            cw - параметр class_weight для модели случайного леса\n",
    "    output: None\n",
    "    description: функция обучает модель решающего дерева RandomForestClassifier с различными сочетаниями гиперпараметров;\n",
    "                 метрики качества модели: f1 и roc_auc;\n",
    "                 функция выводит наилучшие значения метрик и значения гиперпараметров наилучшей модели.\n",
    "    \"\"\"\n",
    "    # в параметрах best_params_f1 и best_f1 будем хранить наилучшие параметры для модели и наивысшую f1 метрику соответственно\n",
    "    best_params_f1 = []\n",
    "    best_f1 = 0\n",
    "    # аналогично для roc_auc метрики.\n",
    "    best_params_roc_auc = []\n",
    "    best_roc_auc = 0.5\n",
    "    # проходим в циклах по всем выбранным гиперпараметрам\n",
    "    for n_estimators in range(30,40):\n",
    "        for max_depth in range(10,17,2):\n",
    "            for min_samples_split in range(2,5):\n",
    "                for min_samples_leaf in range(1,4):\n",
    "                    # инициация модели с текущими гиперпараметрами\n",
    "                    model_rf_clf = RandomForestClassifier(random_state=123,\n",
    "                                                          n_estimators=n_estimators,\n",
    "                                                          max_depth=max_depth,\n",
    "                                                          min_samples_split=min_samples_split,\n",
    "                                                          min_samples_leaf=min_samples_leaf)\n",
    "                    # обучение модели на тренировочной выборке\n",
    "                    model_rf_clf.fit(X_train, y_train)\n",
    "                    # поиск предсказаний модели на валидационной выбоке\n",
    "                    predictions = model_rf_clf.predict(X_valid)\n",
    "\n",
    "                    # вычисление f1 модели методом f1_score\n",
    "                    f1 = f1_score(y_valid, predictions)\n",
    "                    # если текущее значение метрики f1 выше предыдущего лучшего значения, \n",
    "                    # сохраняем параметры модели и текущую метрику f1\n",
    "                    if f1 > best_f1:\n",
    "                        best_params_f1 = [n_estimators, max_depth, min_samples_split, min_samples_leaf]\n",
    "                        best_f1 = f1\n",
    "                    # аналогично для метрики roc_auc\n",
    "                    roc_auc = roc_auc_score(y_valid, predictions)\n",
    "                    if roc_auc > best_roc_auc:\n",
    "                        best_params_roc_auc = [n_estimators, max_depth, min_samples_split, min_samples_leaf]\n",
    "                        best_roc_auc = roc_auc\n",
    "\n",
    "    # вывод наилучшей метрики f1 и параметров модели.\n",
    "    print('''Наилучшая метрика f1: {}\n",
    "    Парамтеры модели:\n",
    "       n_estimators = {}\n",
    "       max_depth = {}\n",
    "       min_samples_split = {}\n",
    "       min_samples_leaf = {} \\n'''.format(round(best_f1, 3),\n",
    "                                 best_params_f1[0],\n",
    "                                 best_params_f1[1],\n",
    "                                 best_params_f1[2],\n",
    "                                 best_params_f1[3]\n",
    "                                ))\n",
    "\n",
    "    # вывод наилучшей метрики roc_auc и параметров модели.\n",
    "    print('''Наилучшая метрика roc_auc: {}\n",
    "    Парамтеры модели:\n",
    "       n_estimators = {}\n",
    "       max_depth = {}\n",
    "       min_samples_split = {}\n",
    "       min_samples_leaf = {} '''.format(round(best_roc_auc, 3),\n",
    "                                 best_params_roc_auc[0],\n",
    "                                 best_params_roc_auc[1],\n",
    "                                 best_params_roc_auc[2],\n",
    "                                 best_params_roc_auc[3]\n",
    "                                ))"
   ]
  },
  {
   "cell_type": "code",
   "execution_count": 22,
   "metadata": {},
   "outputs": [
    {
     "name": "stdout",
     "output_type": "stream",
     "text": [
      "Наилучшая метрика f1: 0.568\n",
      "    Парамтеры модели:\n",
      "       n_estimators = 38\n",
      "       max_depth = 16\n",
      "       min_samples_split = 2\n",
      "       min_samples_leaf = 1 \n",
      "\n",
      "Наилучшая метрика roc_auc: 0.704\n",
      "    Парамтеры модели:\n",
      "       n_estimators = 38\n",
      "       max_depth = 16\n",
      "       min_samples_split = 2\n",
      "       min_samples_leaf = 1 \n"
     ]
    }
   ],
   "source": [
    "random_forest(X_train, X_valid, y_train, y_valid)"
   ]
  },
  {
   "cell_type": "markdown",
   "metadata": {},
   "source": [
    "- Наилучшая метрика f1 для случайного леса 0.58 (не достаточно по техническому заданию).\n",
    "- Наилучший результат по метрикам f1 и roc_auc достигается при одинаковой настройке гиперпараметров.\n",
    "- Попробуем улучшить результат на других моделях."
   ]
  },
  {
   "cell_type": "markdown",
   "metadata": {},
   "source": [
    "## 2.3 Логистическая регрессия"
   ]
  },
  {
   "cell_type": "markdown",
   "metadata": {},
   "source": [
    "- Инициируем модель логистической регрессии LogisticRegression\n",
    "- Выделим гиперпараметры для настройки модели:\n",
    "    - `С` - инверсия силы регуляризации\n",
    "- Критерием проверки качества модели будет `f1` и `roc_auc`."
   ]
  },
  {
   "cell_type": "code",
   "execution_count": 23,
   "metadata": {},
   "outputs": [],
   "source": [
    "# в параметрах best_params_f1 и best_f1 будем хранить наилучшие параметры для модели и наивысшую f1 метрику соответственно\n",
    "best_params_f1 = []\n",
    "best_f1 = 0\n",
    "# аналогично для roc_auc метрики.\n",
    "best_params_roc_auc = []\n",
    "best_roc_auc = 0.5\n",
    "\n",
    "#cs = np.linspace(0.01, 100, 1000, endpoint=True)\n",
    "cs = range(1, 100)\n",
    "# проходим в циклах по всем выбранным гиперпараметрам\n",
    "for C in cs:\n",
    "    # инициация модели с текущими гиперпараметрами\n",
    "    model_lr_clf = LogisticRegression(random_state=123,\n",
    "                                      C=C,\n",
    "                                      max_iter=1000)\n",
    "    # обучение модели на тренировочной выборке\n",
    "    model_lr_clf.fit(X_train, y_train)\n",
    "    # поиск предсказаний модели на валидационной выбоке\n",
    "    predictions = model_lr_clf.predict(X_valid)\n",
    "\n",
    "    # вычисление f1 модели методом f1_score\n",
    "    f1 = f1_score(y_valid, predictions)\n",
    "    # если текущее значение метрики f1 выше предыдущего лучшего значения, \n",
    "    # сохраняем параметры модели и текущую метрику f1\n",
    "    if f1 > best_f1:\n",
    "        best_params_f1 = [C]\n",
    "        best_f1 = f1\n",
    "    # аналогично для метрики roc_auc\n",
    "    roc_auc = roc_auc_score(y_valid, predictions)\n",
    "    if roc_auc > best_roc_auc:\n",
    "        best_params_roc_auc = [C]\n",
    "        best_roc_auc = roc_auc"
   ]
  },
  {
   "cell_type": "code",
   "execution_count": 24,
   "metadata": {},
   "outputs": [
    {
     "name": "stdout",
     "output_type": "stream",
     "text": [
      "Наилучшая метрика f1: 0.27\n",
      "Парамтеры модели:\n",
      "   C = 1 \n"
     ]
    }
   ],
   "source": [
    "# вывод наилучшей метрики f1 и параметров модели.\n",
    "print('''Наилучшая метрика f1: {}\n",
    "Парамтеры модели:\n",
    "   C = {} '''.format(round(best_f1, 3),\n",
    "                             best_params_f1[0]\n",
    "                            ))"
   ]
  },
  {
   "cell_type": "code",
   "execution_count": 25,
   "metadata": {},
   "outputs": [
    {
     "name": "stdout",
     "output_type": "stream",
     "text": [
      "Наилучшая метрика roc_auc: 0.571\n",
      "Парамтеры модели:\n",
      "   C = 1 \n"
     ]
    }
   ],
   "source": [
    "# вывод наилучшей метрики roc_auc и параметров модели.\n",
    "print('''Наилучшая метрика roc_auc: {}\n",
    "Парамтеры модели:\n",
    "   C = {} '''.format(round(best_roc_auc, 3),\n",
    "                             best_params_roc_auc[0]\n",
    "                            ))"
   ]
  },
  {
   "cell_type": "markdown",
   "metadata": {},
   "source": [
    "- Наилучшая метрика f1 для логистической регрессии 0.27 (хуже, чем на остальных моделях).\n",
    "- Наилучший результат по метрикам f1 и roc_auc достигается при одинаковой настройке гиперпараметров.\n",
    "- Попробуем улучшить результат, разобравшись с дисбалансом классов."
   ]
  },
  {
   "cell_type": "markdown",
   "metadata": {},
   "source": [
    "### Выводы"
   ]
  },
  {
   "cell_type": "markdown",
   "metadata": {},
   "source": [
    "- Исходные данные разделены на обучающую, валидационную и тестовую выборки в соотношении 3:1:1 соответственно\n",
    "- Обучены модели \"Решающее Дерево\", \"Случайный лес\", \"Логистическая Регрессия\" без учёта дисбаланса классов. Максимальное значение метрики **f1 = 0.58** получено при обучении модели случайного леса. Качество модели не удовлетворяет условию технического задания.\n",
    "- Качество моделей также оценено по метрике roc_auc. Максимальное значение метрики **roc_auc = 0.71** достигнуто при обучении модели случайного леса. \n",
    "- Метрики f1 и roc_auc достигли максимальных значений при одинаковых настройках гиперпараметров (но такой результат получается не всегда)."
   ]
  },
  {
   "cell_type": "markdown",
   "metadata": {},
   "source": [
    "# 3. Борьба с дисбалансом"
   ]
  },
  {
   "cell_type": "markdown",
   "metadata": {},
   "source": [
    "- Соотношение значений целевого признака 4:1 (для классов 0 и 1 соответственно)\n",
    "- Для борьбы с дисбалансом классов попробуем:\n",
    "    - взвешивание классов (class_weight='balanced')\n",
    "    - увеличение выборки положительного класса (копирование объектов)\n",
    "    - уменьшение выборки отрицательного класса (sampling)\n",
    "    - перемешивание объектов методом shuffle"
   ]
  },
  {
   "cell_type": "markdown",
   "metadata": {},
   "source": [
    "## 3.1 Взвешивание классов"
   ]
  },
  {
   "cell_type": "code",
   "execution_count": 26,
   "metadata": {},
   "outputs": [
    {
     "name": "stdout",
     "output_type": "stream",
     "text": [
      "Наилучшая метрика f1: 0.564\n",
      "    Парамтеры модели:\n",
      "       max_depth = 8\n",
      "       min_samples_split = 2\n",
      "       min_samples_leaf = 9\n",
      "       criterion = gini \n",
      "\n",
      "Наилучшая метрика roc_auc: 0.751\n",
      "    Парамтеры модели:\n",
      "       max_depth = 6\n",
      "       min_samples_split = 2\n",
      "       min_samples_leaf = 8\n",
      "       criterion = gini \n"
     ]
    }
   ],
   "source": [
    "decision_tree(X_train, X_valid, y_train, y_valid, cw='balanced')"
   ]
  },
  {
   "cell_type": "markdown",
   "metadata": {},
   "source": [
    "- Взвешивание классов почти не дало прироста в метрике f1 на решающем дереве. \n",
    "- Отметим, что в данном случае наилучшие значения метрик f1 и roc_auc достигаются при различных настройках гиперпараметров.\n",
    "- Применим upsampling и downsampling. Проверим результаты на модели случайного леса (она дала наилучший результат при начальном исследовании)"
   ]
  },
  {
   "cell_type": "markdown",
   "metadata": {},
   "source": [
    "## 3.2 Upsampling и downsampling"
   ]
  },
  {
   "cell_type": "markdown",
   "metadata": {},
   "source": [
    "- Напишем функции для увеличения и уменьшения выборок."
   ]
  },
  {
   "cell_type": "code",
   "execution_count": 27,
   "metadata": {},
   "outputs": [],
   "source": [
    "def upsample(features, target, repeat):\n",
    "    \"\"\"\n",
    "    input:        features - признаки \n",
    "                  target - целево признак\n",
    "                  repeat (int) - множитель для повторения признаков\n",
    "    output:       features_upsampled - увеличенная выборка признаков\n",
    "                  target_upsampled - увеличенная выборка целевого признака\n",
    "    description:  функция разделяет признаки по классам целевого признака (0, 1),\n",
    "                  повторяет признаки целевого положительного класса repeat раз,\n",
    "                  объединяет объекты с разными целевыми признаками методом concat,\n",
    "                  перемешивает объекты методом shuffle\n",
    "    \"\"\"\n",
    "    features_zeros = features[target == 0]\n",
    "    features_ones = features[target == 1]\n",
    "    target_zeros = target[target == 0]\n",
    "    target_ones = target[target == 1]\n",
    "    \n",
    "    features_upsampled = pd.concat([features_zeros] + [features_ones] * repeat)\n",
    "    target_upsampled = pd.concat([target_zeros] + [target_ones] * repeat)\n",
    "    \n",
    "    features_upsampled, target_upsampled = shuffle(\n",
    "        features_upsampled, target_upsampled, random_state=12345)\n",
    "    return features_upsampled, target_upsampled"
   ]
  },
  {
   "cell_type": "code",
   "execution_count": 28,
   "metadata": {},
   "outputs": [],
   "source": [
    "def downsample(features, target, fraction):\n",
    "    \"\"\"\n",
    "    input:        features - признаки \n",
    "                  target - целево признак\n",
    "                  fraction (float) - доля объектов для сэмплирования\n",
    "    output:       features_downsampled - уменьшенная выборка признаков\n",
    "                  target_downsampled - уменьшенная выборка целевого признака\n",
    "    description:  функция разделяет признаки по классам целевого признака (0, 1), \n",
    "                  сэмплирует признаки целевого класса 0 (с коэффициентом fraction),\n",
    "                  объединяет объекты с разными целевыми признаками методом concat,\n",
    "                  перемешивает объекты методом shuffle\n",
    "    \"\"\"\n",
    "    features_zeros = features[target == 0]\n",
    "    features_ones = features[target == 1]\n",
    "    target_zeros = target[target == 0]\n",
    "    target_ones = target[target == 1]\n",
    "    \n",
    "    features_downsampled = pd.concat(\n",
    "        [features_zeros.sample(frac=fraction, random_state=12345)] + [features_ones])\n",
    "    target_downsampled = pd.concat(\n",
    "        [target_zeros.sample(frac=fraction, random_state=12345)] + [target_ones])\n",
    "    \n",
    "    features_downsampled, target_downsampled = shuffle(\n",
    "        features_downsampled, target_downsampled, random_state=12345)\n",
    "    return features_downsampled, target_downsampled"
   ]
  },
  {
   "cell_type": "markdown",
   "metadata": {},
   "source": [
    "- Для обучающей выборки увеличим количество объектов класса 1 в 2 раза, уменьшим количество объектов класса 0 в 1.5 раза."
   ]
  },
  {
   "cell_type": "code",
   "execution_count": 29,
   "metadata": {},
   "outputs": [],
   "source": [
    "X_train_upsampled, y_train_upsampled = upsample(X_train, y_train, 2)\n",
    "X_train_balanced, y_train_balanced = downsample(X_train_upsampled, y_train_upsampled, 0.75)"
   ]
  },
  {
   "cell_type": "markdown",
   "metadata": {},
   "source": [
    "- Обучим модели случайного леса и решающего дерева на сбалансированных обучающих выборках."
   ]
  },
  {
   "cell_type": "code",
   "execution_count": 30,
   "metadata": {},
   "outputs": [
    {
     "name": "stdout",
     "output_type": "stream",
     "text": [
      "Наилучшая метрика f1: 0.62\n",
      "    Парамтеры модели:\n",
      "       n_estimators = 38\n",
      "       max_depth = 14\n",
      "       min_samples_split = 3\n",
      "       min_samples_leaf = 1 \n",
      "\n",
      "Наилучшая метрика roc_auc: 0.753\n",
      "    Парамтеры модели:\n",
      "       n_estimators = 32\n",
      "       max_depth = 14\n",
      "       min_samples_split = 2\n",
      "       min_samples_leaf = 3 \n"
     ]
    }
   ],
   "source": [
    "random_forest(X_train_balanced, X_valid, y_train_balanced, y_valid)"
   ]
  },
  {
   "cell_type": "code",
   "execution_count": 31,
   "metadata": {},
   "outputs": [
    {
     "name": "stdout",
     "output_type": "stream",
     "text": [
      "Наилучшая метрика f1: 0.587\n",
      "    Парамтеры модели:\n",
      "       max_depth = 7\n",
      "       min_samples_split = 2\n",
      "       min_samples_leaf = 2\n",
      "       criterion = gini \n",
      "\n",
      "Наилучшая метрика roc_auc: 0.749\n",
      "    Парамтеры модели:\n",
      "       max_depth = 6\n",
      "       min_samples_split = 2\n",
      "       min_samples_leaf = 1\n",
      "       criterion = gini \n"
     ]
    }
   ],
   "source": [
    "decision_tree(X_train_balanced, X_valid, y_train_balanced, y_valid)"
   ]
  },
  {
   "cell_type": "markdown",
   "metadata": {},
   "source": [
    "- Метрика f1 для модели \"Случайный лес\" достигла значения **0.61** на сбалансированной выборке, что удовлетворяет условию технического задания (>0.59).\n",
    "- Для модели \"Решающее дерево\" метрика f1 также практически достигла минимально допустимого значения 0.59 (за меньшее время обучения).\n",
    "- Наилучшие значения метрик f1 и roc_auc достигли на случайном лесе при одинаковых значениях гиперпараметров. Для решающего дерева оптимальные значения гиперпараметров различаются.\n",
    "- Стоит отметить, что максимальное значение метрики roc_auc для решающего дерева **0.75** немного выше, чем для случайного леса **0.748**."
   ]
  },
  {
   "cell_type": "markdown",
   "metadata": {},
   "source": [
    "- Для модели случайного леса попробуем применить различные варианты upsampling и downsampling (изменять параметры repeat и fraction)."
   ]
  },
  {
   "cell_type": "code",
   "execution_count": 32,
   "metadata": {},
   "outputs": [
    {
     "name": "stdout",
     "output_type": "stream",
     "text": [
      "=============================================================\n",
      "repeat = 2;   fraction = 0.5\n",
      "Наилучшая метрика f1: 0.578\n",
      "    Парамтеры модели:\n",
      "       max_depth = 8\n",
      "       min_samples_split = 2\n",
      "       min_samples_leaf = 4\n",
      "       criterion = gini \n",
      "\n",
      "Наилучшая метрика roc_auc: 0.759\n",
      "    Парамтеры модели:\n",
      "       max_depth = 8\n",
      "       min_samples_split = 2\n",
      "       min_samples_leaf = 4\n",
      "       criterion = gini \n",
      "=============================================================\n",
      "repeat = 2;   fraction = 0.55\n",
      "Наилучшая метрика f1: 0.605\n",
      "    Парамтеры модели:\n",
      "       max_depth = 8\n",
      "       min_samples_split = 2\n",
      "       min_samples_leaf = 4\n",
      "       criterion = gini \n",
      "\n",
      "Наилучшая метрика roc_auc: 0.77\n",
      "    Парамтеры модели:\n",
      "       max_depth = 8\n",
      "       min_samples_split = 2\n",
      "       min_samples_leaf = 4\n",
      "       criterion = gini \n",
      "=============================================================\n",
      "repeat = 2;   fraction = 0.6\n",
      "Наилучшая метрика f1: 0.58\n",
      "    Парамтеры модели:\n",
      "       max_depth = 7\n",
      "       min_samples_split = 5\n",
      "       min_samples_leaf = 1\n",
      "       criterion = gini \n",
      "\n",
      "Наилучшая метрика roc_auc: 0.757\n",
      "    Парамтеры модели:\n",
      "       max_depth = 7\n",
      "       min_samples_split = 2\n",
      "       min_samples_leaf = 7\n",
      "       criterion = entropy \n",
      "=============================================================\n",
      "repeat = 2;   fraction = 0.65\n",
      "Наилучшая метрика f1: 0.584\n",
      "    Парамтеры модели:\n",
      "       max_depth = 8\n",
      "       min_samples_split = 2\n",
      "       min_samples_leaf = 3\n",
      "       criterion = gini \n",
      "\n",
      "Наилучшая метрика roc_auc: 0.755\n",
      "    Парамтеры модели:\n",
      "       max_depth = 7\n",
      "       min_samples_split = 2\n",
      "       min_samples_leaf = 8\n",
      "       criterion = gini \n",
      "=============================================================\n",
      "repeat = 2;   fraction = 0.7\n",
      "Наилучшая метрика f1: 0.589\n",
      "    Парамтеры модели:\n",
      "       max_depth = 8\n",
      "       min_samples_split = 2\n",
      "       min_samples_leaf = 9\n",
      "       criterion = entropy \n",
      "\n",
      "Наилучшая метрика roc_auc: 0.749\n",
      "    Парамтеры модели:\n",
      "       max_depth = 8\n",
      "       min_samples_split = 2\n",
      "       min_samples_leaf = 9\n",
      "       criterion = gini \n",
      "=============================================================\n",
      "repeat = 2;   fraction = 0.75\n",
      "Наилучшая метрика f1: 0.587\n",
      "    Парамтеры модели:\n",
      "       max_depth = 7\n",
      "       min_samples_split = 2\n",
      "       min_samples_leaf = 2\n",
      "       criterion = gini \n",
      "\n",
      "Наилучшая метрика roc_auc: 0.749\n",
      "    Парамтеры модели:\n",
      "       max_depth = 6\n",
      "       min_samples_split = 2\n",
      "       min_samples_leaf = 1\n",
      "       criterion = gini \n",
      "=============================================================\n",
      "repeat = 2;   fraction = 0.8\n",
      "Наилучшая метрика f1: 0.586\n",
      "    Парамтеры модели:\n",
      "       max_depth = 8\n",
      "       min_samples_split = 2\n",
      "       min_samples_leaf = 9\n",
      "       criterion = gini \n",
      "\n",
      "Наилучшая метрика roc_auc: 0.75\n",
      "    Парамтеры модели:\n",
      "       max_depth = 8\n",
      "       min_samples_split = 2\n",
      "       min_samples_leaf = 9\n",
      "       criterion = gini \n",
      "=============================================================\n",
      "repeat = 3;   fraction = 0.5\n",
      "Наилучшая метрика f1: 0.553\n",
      "    Парамтеры модели:\n",
      "       max_depth = 5\n",
      "       min_samples_split = 5\n",
      "       min_samples_leaf = 1\n",
      "       criterion = gini \n",
      "\n",
      "Наилучшая метрика roc_auc: 0.749\n",
      "    Парамтеры модели:\n",
      "       max_depth = 5\n",
      "       min_samples_split = 5\n",
      "       min_samples_leaf = 1\n",
      "       criterion = gini \n",
      "=============================================================\n",
      "repeat = 3;   fraction = 0.55\n",
      "Наилучшая метрика f1: 0.553\n",
      "    Парамтеры модели:\n",
      "       max_depth = 5\n",
      "       min_samples_split = 2\n",
      "       min_samples_leaf = 3\n",
      "       criterion = gini \n",
      "\n",
      "Наилучшая метрика roc_auc: 0.749\n",
      "    Парамтеры модели:\n",
      "       max_depth = 5\n",
      "       min_samples_split = 2\n",
      "       min_samples_leaf = 3\n",
      "       criterion = gini \n",
      "=============================================================\n",
      "repeat = 3;   fraction = 0.6\n",
      "Наилучшая метрика f1: 0.552\n",
      "    Парамтеры модели:\n",
      "       max_depth = 5\n",
      "       min_samples_split = 2\n",
      "       min_samples_leaf = 3\n",
      "       criterion = gini \n",
      "\n",
      "Наилучшая метрика roc_auc: 0.751\n",
      "    Парамтеры модели:\n",
      "       max_depth = 8\n",
      "       min_samples_split = 2\n",
      "       min_samples_leaf = 4\n",
      "       criterion = entropy \n",
      "=============================================================\n",
      "repeat = 3;   fraction = 0.65\n",
      "Наилучшая метрика f1: 0.554\n",
      "    Парамтеры модели:\n",
      "       max_depth = 9\n",
      "       min_samples_split = 2\n",
      "       min_samples_leaf = 7\n",
      "       criterion = gini \n",
      "\n",
      "Наилучшая метрика roc_auc: 0.747\n",
      "    Парамтеры модели:\n",
      "       max_depth = 5\n",
      "       min_samples_split = 2\n",
      "       min_samples_leaf = 1\n",
      "       criterion = entropy \n",
      "=============================================================\n",
      "repeat = 3;   fraction = 0.7\n",
      "Наилучшая метрика f1: 0.573\n",
      "    Парамтеры модели:\n",
      "       max_depth = 7\n",
      "       min_samples_split = 2\n",
      "       min_samples_leaf = 6\n",
      "       criterion = gini \n",
      "\n",
      "Наилучшая метрика roc_auc: 0.761\n",
      "    Парамтеры модели:\n",
      "       max_depth = 7\n",
      "       min_samples_split = 2\n",
      "       min_samples_leaf = 6\n",
      "       criterion = gini \n",
      "=============================================================\n",
      "repeat = 3;   fraction = 0.75\n",
      "Наилучшая метрика f1: 0.573\n",
      "    Парамтеры модели:\n",
      "       max_depth = 7\n",
      "       min_samples_split = 2\n",
      "       min_samples_leaf = 3\n",
      "       criterion = gini \n",
      "\n",
      "Наилучшая метрика roc_auc: 0.755\n",
      "    Парамтеры модели:\n",
      "       max_depth = 6\n",
      "       min_samples_split = 2\n",
      "       min_samples_leaf = 6\n",
      "       criterion = gini \n",
      "=============================================================\n",
      "repeat = 3;   fraction = 0.8\n",
      "Наилучшая метрика f1: 0.577\n",
      "    Парамтеры модели:\n",
      "       max_depth = 9\n",
      "       min_samples_split = 2\n",
      "       min_samples_leaf = 8\n",
      "       criterion = gini \n",
      "\n",
      "Наилучшая метрика roc_auc: 0.754\n",
      "    Парамтеры модели:\n",
      "       max_depth = 6\n",
      "       min_samples_split = 2\n",
      "       min_samples_leaf = 5\n",
      "       criterion = gini \n"
     ]
    }
   ],
   "source": [
    "for rep in range(2,4):\n",
    "    for frac in np.arange(0.5, 0.8, 0.05):\n",
    "        print('=============================================================')\n",
    "        print('repeat = {};   fraction = {}'.format(rep, round(frac,2)))\n",
    "        X_train_upsampled, y_train_upsampled = upsample(X_train, y_train, rep)\n",
    "        X_train_balanced, y_train_balanced = downsample(X_train_upsampled, y_train_upsampled, frac)\n",
    "        decision_tree(X_train_balanced, X_valid, y_train_balanced, y_valid)"
   ]
  },
  {
   "cell_type": "markdown",
   "metadata": {},
   "source": [
    "- Наилучший результат для решающего дерева достигнут при увеличении положительного класса тренировочной выборки в 2 раза и сэмплировании отрицательного класса с коэффициентом 0.55. При этом метрика **f1 = 0.604** а **roc_auc = 0.769**, что удовлетворяет условиям технического задания."
   ]
  },
  {
   "cell_type": "markdown",
   "metadata": {},
   "source": [
    "### Выводы"
   ]
  },
  {
   "cell_type": "markdown",
   "metadata": {},
   "source": [
    "- Взвешивание классов с помощью параметра class_weight не дало значительного увеличения метрики f1.\n",
    "- Upsampling положительного класса и downsampling отрицательного класса дали необходимый прирост точности моделей. \n",
    "- Необходимое качество на валидационной выборке получили модели:\n",
    "    - Случайный лес:\n",
    "        - f1 = 0.608\n",
    "        - roc_auc = 0.748\n",
    "        - repeat = 2         - повторение объектов класса 1\n",
    "        - fraction = 0.75    - коэффициент сэмплирования объектов класса 0\n",
    "    - Решающее дерево:\n",
    "        - f1 = 0.604\n",
    "        - roc_auc = 0.769\n",
    "        - repeat = 2\n",
    "        - fraction = 0.55"
   ]
  },
  {
   "cell_type": "markdown",
   "metadata": {},
   "source": [
    "# 4. Тестирование модели"
   ]
  },
  {
   "cell_type": "markdown",
   "metadata": {},
   "source": [
    "- Проведём обучение полученных моделей на всех доступных данных (обучающие + валидационные), предварительно сбалансировав классы с найденными ранее коэффициентами repeat и fraction. \n",
    "- Вычислим метрики f1 и roc_auc на тестовой выборке."
   ]
  },
  {
   "cell_type": "markdown",
   "metadata": {},
   "source": [
    "**1) Модель \"Случайный лес\"**"
   ]
  },
  {
   "cell_type": "code",
   "execution_count": 33,
   "metadata": {},
   "outputs": [
    {
     "name": "stdout",
     "output_type": "stream",
     "text": [
      " f1 = 0.64, \n",
      " roc_auc = 0.77\n"
     ]
    }
   ],
   "source": [
    "X_upsampled, y_upsampled = upsample(X, y, 2)\n",
    "X_balanced, y_balanced = downsample(X_upsampled, y_upsampled, 0.75)\n",
    "model_rfc_final = RandomForestClassifier(random_state=123,\n",
    "                                         n_estimators=33,\n",
    "                                         max_depth=12,\n",
    "                                         min_samples_split=3,\n",
    "                                         min_samples_leaf=1)\n",
    "model_rfc_final.fit(X_balanced, y_balanced)\n",
    "predictions = model_rfc_final.predict(X_test)\n",
    "f1 = f1_score(y_test, predictions)\n",
    "roc_auc = roc_auc_score(y_test, predictions)\n",
    "print(' f1 = {}, \\n roc_auc = {}'.format(round(f1,2), round(roc_auc,2)))"
   ]
  },
  {
   "cell_type": "markdown",
   "metadata": {},
   "source": [
    "**2) Модель \"Решающее дерево\"**"
   ]
  },
  {
   "cell_type": "code",
   "execution_count": 34,
   "metadata": {},
   "outputs": [
    {
     "name": "stdout",
     "output_type": "stream",
     "text": [
      " f1 = 0.63, \n",
      " roc_auc = 0.78\n"
     ]
    }
   ],
   "source": [
    "X_upsampled, y_upsampled = upsample(X, y, 2)\n",
    "X_balanced, y_balanced = downsample(X_upsampled, y_upsampled, 0.55)\n",
    "model_dtc_final = DecisionTreeClassifier(random_state=123,\n",
    "                                         max_depth=8,\n",
    "                                         min_samples_split=2,\n",
    "                                         min_samples_leaf=4)\n",
    "model_dtc_final.fit(X_balanced, y_balanced)\n",
    "predictions = model_dtc_final.predict(X_test)\n",
    "f1 = f1_score(y_test, predictions)\n",
    "roc_auc = roc_auc_score(y_test, predictions)\n",
    "print(' f1 = {}, \\n roc_auc = {}'.format(round(f1,2), round(roc_auc,2)))"
   ]
  },
  {
   "cell_type": "markdown",
   "metadata": {},
   "source": [
    "### Выводы"
   ]
  },
  {
   "cell_type": "markdown",
   "metadata": {},
   "source": [
    "- Удовлетворяющее техническому заданию значение метрики f1 (на тестовой выборке) удалось получить на двух моделях:\n",
    "    - Случайный лес\n",
    "        f1 = 0.63\n",
    "        roc_auc = 0.77\n",
    "    - Решающее дерево\n",
    "        f1 = 0.62\n",
    "        roc_auc = 0.78\n",
    "- При этом метрика f1 выше у модели Случайный лес, а roc_auc выше у Решающего дерева."
   ]
  },
  {
   "cell_type": "markdown",
   "metadata": {},
   "source": [
    "# 5. Общий вывод"
   ]
  },
  {
   "cell_type": "markdown",
   "metadata": {},
   "source": [
    "- Произведена предобработка данных. \n",
    "    - Числовые признаки приведены к стандартному виду (среднее = 0, стандартное отклонение = 1). Категориальные признаки преобразованы методом One-Hot Encoder.\n",
    "    - Целевой признак распределён в сооотношении **4:1**\n",
    "    - В признаке `Tenure` обнаружено около 10% пропусков. Попытка построить классификационную модель для заполнения пропусков не принесла существенных результатов (качество модели 12%, при случайном заполнении 9%). Данный признак преобразован прямым кодированием One-Hot Encoder.\n",
    "- Проведён анализ моделей без учёта дисбаланса классов.\n",
    "    - Исходные данные разделены на обучающую, валидационную и тестовую выборки в соотношении 3:1:1 соответственно\n",
    "    - Обучены модели \"Решающее Дерево\", \"Случайный лес\", \"Логистическая Регрессия\" без учёта дисбаланса классов. Максимальное значение метрики **f1 = 0.58** получено при обучении модели случайного леса.\n",
    "    - Качество моделей также оценено по метрике roc_auc. Максимальное значение метрики **roc_auc = 0.71** достигнуто при обучении модели случайного леса. \n",
    "    - Метрики f1 и roc_auc достигли максимальных значений при одинаковых настройках гиперпараметров.\n",
    "- Проведён анализ дисбаланса классов\n",
    "    - Взвешивание классов с помощью параметра class_weight не дало значительного увеличения метрики f1.\n",
    "    - Upsampling положительного класса и downsampling отрицательного класса дали необходимый прирост точности моделей. \n",
    "    - Необходимое значение **f1 на валидационной выборке** получили модели:\n",
    "        - **Случайный лес**:\n",
    "            - **f1 = 0.608**\n",
    "            - **roc_auc = 0.748**\n",
    "        - **Решающее дерево**:\n",
    "            - **f1 = 0.604**\n",
    "            - **roc_auc = 0.769**\n",
    "- Проведено тестирование полученных моделей на тестовой выборке:\n",
    "    - Значение метрики **f1 на тестовой выборке**:\n",
    "        - **Случайный лес**:\n",
    "            - **f1 = 0.63**\n",
    "            - **roc_auc = 0.77**\n",
    "        - **Решающее дерево**:\n",
    "            - **f1 = 0.62**\n",
    "            - **roc_auc = 0.78**\n",
    "    - Метрика f1 выше у модели Случайный лес, а roc_auc выше у Решающего дерева."
   ]
  }
 ],
 "metadata": {
  "kernelspec": {
   "display_name": "Python 3 (ipykernel)",
   "language": "python",
   "name": "python3"
  },
  "language_info": {
   "codemirror_mode": {
    "name": "ipython",
    "version": 3
   },
   "file_extension": ".py",
   "mimetype": "text/x-python",
   "name": "python",
   "nbconvert_exporter": "python",
   "pygments_lexer": "ipython3",
   "version": "3.9.13"
  }
 },
 "nbformat": 4,
 "nbformat_minor": 2
}
