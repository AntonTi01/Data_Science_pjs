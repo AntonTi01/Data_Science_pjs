{
 "cells": [
  {
   "cell_type": "markdown",
   "metadata": {},
   "source": [
    "# Проектная работа 1. Предобработка данных"
   ]
  },
  {
   "cell_type": "markdown",
   "metadata": {},
   "source": [
    "# Исследование надёжности заёмщиков"
   ]
  },
  {
   "cell_type": "markdown",
   "metadata": {},
   "source": [
    "**Цель:** Получить практичесские навыки в предобработке данных: обрабатывать пропущенные данные, работать с типами данных, выделять леммы, категоризировать данные.  \n",
    "  \n",
    "**План выполнения работы:**  \n",
    "- 1. Изучение общей информации о данных  \n",
    "- 2. Предобработка данных   \n",
    "    - 2.1 Заполнение пропущенных данных  \n",
    "    - 2.2 Замена типа данных  \n",
    "    - 2.3 Удаление дубликатов  \n",
    "    - 2.4 Лемматизация целей получения кредитов  \n",
    "    - 2.5 Категоризация данных    \n",
    "- 3. Исследование данных  \n",
    "    - 3.1 Зависимость между наличием детей и возвратом кредита в срок  \n",
    "    - 3.2 Зависимость между семейным положением и возвратом кредита в срок  \n",
    "    - 3.3 Зависимость между уровнем дохода и возвратом кредита в срок  \n",
    "    - 3.4 Влияние целей кредита на его возврат в срок  \n",
    "- 4. Общий вывод  \n",
    "  \n",
    "  \n",
    "**Описание Данных:**  \n",
    "Данные представляют собой таблицу со статистическиой информацией о платёжеспособности клиентов:\n",
    "- `children` — количество детей в семье\n",
    "- `days_employed` — общий трудовой стаж в днях\n",
    "- `dob_years` — возраст клиента в годах\n",
    "- `education` — уровень образования клиента\n",
    "- `education_id` — идентификатор уровня образования\n",
    "- `family_status` — семейное положение\n",
    "- `family_status_id` — идентификатор семейного положения\n",
    "- `gender` — пол клиента\n",
    "- `income_type` — тип занятости\n",
    "- `debt` — имел ли задолженность по возврату кредитов\n",
    "- `total_income` — ежемесячный доход\n",
    "- `purpose` — цель получения кредита"
   ]
  },
  {
   "cell_type": "markdown",
   "metadata": {},
   "source": [
    "## Шаг 1. Изучение общей информации о данных"
   ]
  },
  {
   "cell_type": "code",
   "execution_count": 22,
   "metadata": {
    "scrolled": true
   },
   "outputs": [],
   "source": [
    "# подключаем библиотеку pandas для работы с таблицами и библиотеку display для вывода табличных данных\n",
    "import pandas as pd\n",
    "from IPython.display import display\n",
    "# импортируем лемматизатор Mystem из библиотеки pymystem3\n",
    "from pymystem3 import Mystem\n"
   ]
  },
  {
   "cell_type": "code",
   "execution_count": 23,
   "metadata": {},
   "outputs": [
    {
     "data": {
      "text/html": [
       "<div>\n",
       "<style scoped>\n",
       "    .dataframe tbody tr th:only-of-type {\n",
       "        vertical-align: middle;\n",
       "    }\n",
       "\n",
       "    .dataframe tbody tr th {\n",
       "        vertical-align: top;\n",
       "    }\n",
       "\n",
       "    .dataframe thead th {\n",
       "        text-align: right;\n",
       "    }\n",
       "</style>\n",
       "<table border=\"1\" class=\"dataframe\">\n",
       "  <thead>\n",
       "    <tr style=\"text-align: right;\">\n",
       "      <th></th>\n",
       "      <th>children</th>\n",
       "      <th>days_employed</th>\n",
       "      <th>dob_years</th>\n",
       "      <th>education</th>\n",
       "      <th>education_id</th>\n",
       "      <th>family_status</th>\n",
       "      <th>family_status_id</th>\n",
       "      <th>gender</th>\n",
       "      <th>income_type</th>\n",
       "      <th>debt</th>\n",
       "      <th>total_income</th>\n",
       "      <th>purpose</th>\n",
       "    </tr>\n",
       "  </thead>\n",
       "  <tbody>\n",
       "    <tr>\n",
       "      <th>0</th>\n",
       "      <td>1</td>\n",
       "      <td>-8437.673028</td>\n",
       "      <td>42</td>\n",
       "      <td>высшее</td>\n",
       "      <td>0</td>\n",
       "      <td>женат / замужем</td>\n",
       "      <td>0</td>\n",
       "      <td>F</td>\n",
       "      <td>сотрудник</td>\n",
       "      <td>0</td>\n",
       "      <td>253875.639453</td>\n",
       "      <td>покупка жилья</td>\n",
       "    </tr>\n",
       "    <tr>\n",
       "      <th>1</th>\n",
       "      <td>1</td>\n",
       "      <td>-4024.803754</td>\n",
       "      <td>36</td>\n",
       "      <td>среднее</td>\n",
       "      <td>1</td>\n",
       "      <td>женат / замужем</td>\n",
       "      <td>0</td>\n",
       "      <td>F</td>\n",
       "      <td>сотрудник</td>\n",
       "      <td>0</td>\n",
       "      <td>112080.014102</td>\n",
       "      <td>приобретение автомобиля</td>\n",
       "    </tr>\n",
       "    <tr>\n",
       "      <th>2</th>\n",
       "      <td>0</td>\n",
       "      <td>-5623.422610</td>\n",
       "      <td>33</td>\n",
       "      <td>Среднее</td>\n",
       "      <td>1</td>\n",
       "      <td>женат / замужем</td>\n",
       "      <td>0</td>\n",
       "      <td>M</td>\n",
       "      <td>сотрудник</td>\n",
       "      <td>0</td>\n",
       "      <td>145885.952297</td>\n",
       "      <td>покупка жилья</td>\n",
       "    </tr>\n",
       "    <tr>\n",
       "      <th>3</th>\n",
       "      <td>3</td>\n",
       "      <td>-4124.747207</td>\n",
       "      <td>32</td>\n",
       "      <td>среднее</td>\n",
       "      <td>1</td>\n",
       "      <td>женат / замужем</td>\n",
       "      <td>0</td>\n",
       "      <td>M</td>\n",
       "      <td>сотрудник</td>\n",
       "      <td>0</td>\n",
       "      <td>267628.550329</td>\n",
       "      <td>дополнительное образование</td>\n",
       "    </tr>\n",
       "    <tr>\n",
       "      <th>4</th>\n",
       "      <td>0</td>\n",
       "      <td>340266.072047</td>\n",
       "      <td>53</td>\n",
       "      <td>среднее</td>\n",
       "      <td>1</td>\n",
       "      <td>гражданский брак</td>\n",
       "      <td>1</td>\n",
       "      <td>F</td>\n",
       "      <td>пенсионер</td>\n",
       "      <td>0</td>\n",
       "      <td>158616.077870</td>\n",
       "      <td>сыграть свадьбу</td>\n",
       "    </tr>\n",
       "    <tr>\n",
       "      <th>5</th>\n",
       "      <td>0</td>\n",
       "      <td>-926.185831</td>\n",
       "      <td>27</td>\n",
       "      <td>высшее</td>\n",
       "      <td>0</td>\n",
       "      <td>гражданский брак</td>\n",
       "      <td>1</td>\n",
       "      <td>M</td>\n",
       "      <td>компаньон</td>\n",
       "      <td>0</td>\n",
       "      <td>255763.565419</td>\n",
       "      <td>покупка жилья</td>\n",
       "    </tr>\n",
       "    <tr>\n",
       "      <th>6</th>\n",
       "      <td>0</td>\n",
       "      <td>-2879.202052</td>\n",
       "      <td>43</td>\n",
       "      <td>высшее</td>\n",
       "      <td>0</td>\n",
       "      <td>женат / замужем</td>\n",
       "      <td>0</td>\n",
       "      <td>F</td>\n",
       "      <td>компаньон</td>\n",
       "      <td>0</td>\n",
       "      <td>240525.971920</td>\n",
       "      <td>операции с жильем</td>\n",
       "    </tr>\n",
       "    <tr>\n",
       "      <th>7</th>\n",
       "      <td>0</td>\n",
       "      <td>-152.779569</td>\n",
       "      <td>50</td>\n",
       "      <td>СРЕДНЕЕ</td>\n",
       "      <td>1</td>\n",
       "      <td>женат / замужем</td>\n",
       "      <td>0</td>\n",
       "      <td>M</td>\n",
       "      <td>сотрудник</td>\n",
       "      <td>0</td>\n",
       "      <td>135823.934197</td>\n",
       "      <td>образование</td>\n",
       "    </tr>\n",
       "    <tr>\n",
       "      <th>8</th>\n",
       "      <td>2</td>\n",
       "      <td>-6929.865299</td>\n",
       "      <td>35</td>\n",
       "      <td>ВЫСШЕЕ</td>\n",
       "      <td>0</td>\n",
       "      <td>гражданский брак</td>\n",
       "      <td>1</td>\n",
       "      <td>F</td>\n",
       "      <td>сотрудник</td>\n",
       "      <td>0</td>\n",
       "      <td>95856.832424</td>\n",
       "      <td>на проведение свадьбы</td>\n",
       "    </tr>\n",
       "    <tr>\n",
       "      <th>9</th>\n",
       "      <td>0</td>\n",
       "      <td>-2188.756445</td>\n",
       "      <td>41</td>\n",
       "      <td>среднее</td>\n",
       "      <td>1</td>\n",
       "      <td>женат / замужем</td>\n",
       "      <td>0</td>\n",
       "      <td>M</td>\n",
       "      <td>сотрудник</td>\n",
       "      <td>0</td>\n",
       "      <td>144425.938277</td>\n",
       "      <td>покупка жилья для семьи</td>\n",
       "    </tr>\n",
       "  </tbody>\n",
       "</table>\n",
       "</div>"
      ],
      "text/plain": [
       "   children  days_employed  dob_years education  education_id  \\\n",
       "0         1   -8437.673028         42    высшее             0   \n",
       "1         1   -4024.803754         36   среднее             1   \n",
       "2         0   -5623.422610         33   Среднее             1   \n",
       "3         3   -4124.747207         32   среднее             1   \n",
       "4         0  340266.072047         53   среднее             1   \n",
       "5         0    -926.185831         27    высшее             0   \n",
       "6         0   -2879.202052         43    высшее             0   \n",
       "7         0    -152.779569         50   СРЕДНЕЕ             1   \n",
       "8         2   -6929.865299         35    ВЫСШЕЕ             0   \n",
       "9         0   -2188.756445         41   среднее             1   \n",
       "\n",
       "      family_status  family_status_id gender income_type  debt   total_income  \\\n",
       "0   женат / замужем                 0      F   сотрудник     0  253875.639453   \n",
       "1   женат / замужем                 0      F   сотрудник     0  112080.014102   \n",
       "2   женат / замужем                 0      M   сотрудник     0  145885.952297   \n",
       "3   женат / замужем                 0      M   сотрудник     0  267628.550329   \n",
       "4  гражданский брак                 1      F   пенсионер     0  158616.077870   \n",
       "5  гражданский брак                 1      M   компаньон     0  255763.565419   \n",
       "6   женат / замужем                 0      F   компаньон     0  240525.971920   \n",
       "7   женат / замужем                 0      M   сотрудник     0  135823.934197   \n",
       "8  гражданский брак                 1      F   сотрудник     0   95856.832424   \n",
       "9   женат / замужем                 0      M   сотрудник     0  144425.938277   \n",
       "\n",
       "                      purpose  \n",
       "0               покупка жилья  \n",
       "1     приобретение автомобиля  \n",
       "2               покупка жилья  \n",
       "3  дополнительное образование  \n",
       "4             сыграть свадьбу  \n",
       "5               покупка жилья  \n",
       "6           операции с жильем  \n",
       "7                 образование  \n",
       "8       на проведение свадьбы  \n",
       "9     покупка жилья для семьи  "
      ]
     },
     "metadata": {},
     "output_type": "display_data"
    }
   ],
   "source": [
    "# читаем данные из .csv файла с помощью метода read_csv()\n",
    "customer_solvency = pd.read_csv('data_01.csv')\n",
    "\n",
    "# выведем первые 5 строк таблицы с помощью метода head()\n",
    "display(customer_solvency.head(10))"
   ]
  },
  {
   "cell_type": "code",
   "execution_count": 24,
   "metadata": {},
   "outputs": [
    {
     "name": "stdout",
     "output_type": "stream",
     "text": [
      "<class 'pandas.core.frame.DataFrame'>\n",
      "RangeIndex: 21525 entries, 0 to 21524\n",
      "Data columns (total 12 columns):\n",
      " #   Column            Non-Null Count  Dtype  \n",
      "---  ------            --------------  -----  \n",
      " 0   children          21525 non-null  int64  \n",
      " 1   days_employed     19351 non-null  float64\n",
      " 2   dob_years         21525 non-null  int64  \n",
      " 3   education         21525 non-null  object \n",
      " 4   education_id      21525 non-null  int64  \n",
      " 5   family_status     21525 non-null  object \n",
      " 6   family_status_id  21525 non-null  int64  \n",
      " 7   gender            21525 non-null  object \n",
      " 8   income_type       21525 non-null  object \n",
      " 9   debt              21525 non-null  int64  \n",
      " 10  total_income      19351 non-null  float64\n",
      " 11  purpose           21525 non-null  object \n",
      "dtypes: float64(2), int64(5), object(5)\n",
      "memory usage: 2.0+ MB\n"
     ]
    }
   ],
   "source": [
    "# с помощью метода info() изучим структуру таблицы: типы данных, колличество строк, столбцов, \n",
    "# пропущенных данных.\n",
    "\n",
    "customer_solvency.info()"
   ]
  },
  {
   "cell_type": "markdown",
   "metadata": {},
   "source": [
    "### Вывод"
   ]
  },
  {
   "cell_type": "markdown",
   "metadata": {},
   "source": [
    "Данные успешно загружены и корректно записаны в DataFrame. Таблица состоит из 12 столбцов и 21525 записей. Присутствуют пропущенные значения, исследования которых будут проведены далее."
   ]
  },
  {
   "cell_type": "markdown",
   "metadata": {},
   "source": [
    "## Шаг 2. Предобработка данных"
   ]
  },
  {
   "cell_type": "markdown",
   "metadata": {},
   "source": [
    "### 2.1 Заполнение пропущенных данных"
   ]
  },
  {
   "cell_type": "markdown",
   "metadata": {},
   "source": [
    "Таблица данных состоит из 21525 строк и 12 столбцов. Данные пропущены в столбцах `days_employed` (общий трудовой стаж в днях) и `total_income` (ежемесячный доход). Причём колличество пропущенных данных одинаково. Возможно, в этом есть закономерность."
   ]
  },
  {
   "cell_type": "code",
   "execution_count": 25,
   "metadata": {},
   "outputs": [
    {
     "name": "stdout",
     "output_type": "stream",
     "text": [
      "Колличество строк с пропущенным трудовым стажем: 2174\n"
     ]
    },
    {
     "data": {
      "text/html": [
       "<div>\n",
       "<style scoped>\n",
       "    .dataframe tbody tr th:only-of-type {\n",
       "        vertical-align: middle;\n",
       "    }\n",
       "\n",
       "    .dataframe tbody tr th {\n",
       "        vertical-align: top;\n",
       "    }\n",
       "\n",
       "    .dataframe thead th {\n",
       "        text-align: right;\n",
       "    }\n",
       "</style>\n",
       "<table border=\"1\" class=\"dataframe\">\n",
       "  <thead>\n",
       "    <tr style=\"text-align: right;\">\n",
       "      <th></th>\n",
       "      <th>children</th>\n",
       "      <th>days_employed</th>\n",
       "      <th>dob_years</th>\n",
       "      <th>education</th>\n",
       "      <th>education_id</th>\n",
       "      <th>family_status</th>\n",
       "      <th>family_status_id</th>\n",
       "      <th>gender</th>\n",
       "      <th>income_type</th>\n",
       "      <th>debt</th>\n",
       "      <th>total_income</th>\n",
       "      <th>purpose</th>\n",
       "    </tr>\n",
       "  </thead>\n",
       "  <tbody>\n",
       "  </tbody>\n",
       "</table>\n",
       "</div>"
      ],
      "text/plain": [
       "Empty DataFrame\n",
       "Columns: [children, days_employed, dob_years, education, education_id, family_status, family_status_id, gender, income_type, debt, total_income, purpose]\n",
       "Index: []"
      ]
     },
     "metadata": {},
     "output_type": "display_data"
    }
   ],
   "source": [
    "# сохраним в переменной missed_days_employed все строки с пропущенным значением 'days_employed'\n",
    "missed_days_employed = customer_solvency.loc[customer_solvency['days_employed'].isnull()]\n",
    "print('Колличество строк с пропущенным трудовым стажем:', len(missed_days_employed))\n",
    "# проверим, что для всех этих строк значения в 'total_income' также пропущены\n",
    "display(missed_days_employed.loc[missed_days_employed['total_income'].isnull() == False])"
   ]
  },
  {
   "cell_type": "markdown",
   "metadata": {},
   "source": [
    "Около 10% строк имеют пропуски в данных. Их нельзя просто удалить без ущерба статистике."
   ]
  },
  {
   "cell_type": "markdown",
   "metadata": {},
   "source": [
    "#### Исследование некорректных данных в столбце `days_employed`:"
   ]
  },
  {
   "cell_type": "markdown",
   "metadata": {},
   "source": [
    "Значения в столбцах `days_employed` и `total_income` пропущены в одних и тех же строках. Возможно, произошёл сбой системы при выгрузке или записи данных. На это также указывают отрицательные значения в `days_employed`.\n",
    "Так же вероятно были ошибки при заполнении данных: Общий трудовой стаж в 340266 дней выглядит неправдоподобным при возрасте клиента 53 года. Трудовой стаж человека не может быть больше 30000 дней (грубая оценка: за 75-80 лет работы). Найдем колличество записей, превышающих это значение."
   ]
  },
  {
   "cell_type": "code",
   "execution_count": 26,
   "metadata": {},
   "outputs": [
    {
     "name": "stdout",
     "output_type": "stream",
     "text": [
      "Колличество строк с неверным трудовым стажем: 3445\n",
      "Колличество строк с отрицательным трудовым стажем: 3445\n"
     ]
    }
   ],
   "source": [
    "# с помощью метода loc[] и логической операции отберем записи с 'days_employed' > 30000 и\n",
    "# выведем колличество записей с помощью функции len()\n",
    "wrong_days_employed = len(customer_solvency.loc[customer_solvency['days_employed'] > 30000])\n",
    "print('Колличество строк с неверным трудовым стажем:', wrong_days_employed)\n",
    "# аналогично найдем колличество строк с отрицательным тррудовым стажем.\n",
    "neg_days_employed = len(customer_solvency.loc[customer_solvency['days_employed'] < 0])\n",
    "print('Колличество строк с отрицательным трудовым стажем:', wrong_days_employed)"
   ]
  },
  {
   "cell_type": "markdown",
   "metadata": {},
   "source": [
    "- Почти половина данных в `total_income` имеет некорректное или пропущенное значение. Поскольку причины неизвестны, изменение некорректных данных может только усугубить ситуацию.\n",
    "- Данные могли быть введены в часах (а не в днях), что объяснило бы высокие значения. Так же системный сбой мог изменить формат данных (точка отсчета дней могла измениться, что привело к отрицательным значениям).\n",
    "- В любом случае необходимо дальнейшее исследование проблемы с сотрудниками банка.\n",
    "- На данном этапе заменим пропущенные данные в `days_employed` нулями для наглядности."
   ]
  },
  {
   "cell_type": "code",
   "execution_count": 27,
   "metadata": {},
   "outputs": [
    {
     "data": {
      "text/html": [
       "<div>\n",
       "<style scoped>\n",
       "    .dataframe tbody tr th:only-of-type {\n",
       "        vertical-align: middle;\n",
       "    }\n",
       "\n",
       "    .dataframe tbody tr th {\n",
       "        vertical-align: top;\n",
       "    }\n",
       "\n",
       "    .dataframe thead th {\n",
       "        text-align: right;\n",
       "    }\n",
       "</style>\n",
       "<table border=\"1\" class=\"dataframe\">\n",
       "  <thead>\n",
       "    <tr style=\"text-align: right;\">\n",
       "      <th></th>\n",
       "      <th>children</th>\n",
       "      <th>days_employed</th>\n",
       "      <th>dob_years</th>\n",
       "      <th>education</th>\n",
       "      <th>education_id</th>\n",
       "      <th>family_status</th>\n",
       "      <th>family_status_id</th>\n",
       "      <th>gender</th>\n",
       "      <th>income_type</th>\n",
       "      <th>debt</th>\n",
       "      <th>total_income</th>\n",
       "      <th>purpose</th>\n",
       "    </tr>\n",
       "  </thead>\n",
       "  <tbody>\n",
       "    <tr>\n",
       "      <th>12</th>\n",
       "      <td>0</td>\n",
       "      <td>0.0</td>\n",
       "      <td>65</td>\n",
       "      <td>среднее</td>\n",
       "      <td>1</td>\n",
       "      <td>гражданский брак</td>\n",
       "      <td>1</td>\n",
       "      <td>M</td>\n",
       "      <td>пенсионер</td>\n",
       "      <td>0</td>\n",
       "      <td>NaN</td>\n",
       "      <td>сыграть свадьбу</td>\n",
       "    </tr>\n",
       "    <tr>\n",
       "      <th>26</th>\n",
       "      <td>0</td>\n",
       "      <td>0.0</td>\n",
       "      <td>41</td>\n",
       "      <td>среднее</td>\n",
       "      <td>1</td>\n",
       "      <td>женат / замужем</td>\n",
       "      <td>0</td>\n",
       "      <td>M</td>\n",
       "      <td>госслужащий</td>\n",
       "      <td>0</td>\n",
       "      <td>NaN</td>\n",
       "      <td>образование</td>\n",
       "    </tr>\n",
       "    <tr>\n",
       "      <th>29</th>\n",
       "      <td>0</td>\n",
       "      <td>0.0</td>\n",
       "      <td>63</td>\n",
       "      <td>среднее</td>\n",
       "      <td>1</td>\n",
       "      <td>Не женат / не замужем</td>\n",
       "      <td>4</td>\n",
       "      <td>F</td>\n",
       "      <td>пенсионер</td>\n",
       "      <td>0</td>\n",
       "      <td>NaN</td>\n",
       "      <td>строительство жилой недвижимости</td>\n",
       "    </tr>\n",
       "    <tr>\n",
       "      <th>41</th>\n",
       "      <td>0</td>\n",
       "      <td>0.0</td>\n",
       "      <td>50</td>\n",
       "      <td>среднее</td>\n",
       "      <td>1</td>\n",
       "      <td>женат / замужем</td>\n",
       "      <td>0</td>\n",
       "      <td>F</td>\n",
       "      <td>госслужащий</td>\n",
       "      <td>0</td>\n",
       "      <td>NaN</td>\n",
       "      <td>сделка с подержанным автомобилем</td>\n",
       "    </tr>\n",
       "    <tr>\n",
       "      <th>55</th>\n",
       "      <td>0</td>\n",
       "      <td>0.0</td>\n",
       "      <td>54</td>\n",
       "      <td>среднее</td>\n",
       "      <td>1</td>\n",
       "      <td>гражданский брак</td>\n",
       "      <td>1</td>\n",
       "      <td>F</td>\n",
       "      <td>пенсионер</td>\n",
       "      <td>1</td>\n",
       "      <td>NaN</td>\n",
       "      <td>сыграть свадьбу</td>\n",
       "    </tr>\n",
       "    <tr>\n",
       "      <th>65</th>\n",
       "      <td>0</td>\n",
       "      <td>0.0</td>\n",
       "      <td>21</td>\n",
       "      <td>среднее</td>\n",
       "      <td>1</td>\n",
       "      <td>Не женат / не замужем</td>\n",
       "      <td>4</td>\n",
       "      <td>M</td>\n",
       "      <td>компаньон</td>\n",
       "      <td>0</td>\n",
       "      <td>NaN</td>\n",
       "      <td>операции с коммерческой недвижимостью</td>\n",
       "    </tr>\n",
       "    <tr>\n",
       "      <th>67</th>\n",
       "      <td>0</td>\n",
       "      <td>0.0</td>\n",
       "      <td>52</td>\n",
       "      <td>высшее</td>\n",
       "      <td>0</td>\n",
       "      <td>женат / замужем</td>\n",
       "      <td>0</td>\n",
       "      <td>F</td>\n",
       "      <td>пенсионер</td>\n",
       "      <td>0</td>\n",
       "      <td>NaN</td>\n",
       "      <td>покупка жилья для семьи</td>\n",
       "    </tr>\n",
       "    <tr>\n",
       "      <th>72</th>\n",
       "      <td>1</td>\n",
       "      <td>0.0</td>\n",
       "      <td>32</td>\n",
       "      <td>высшее</td>\n",
       "      <td>0</td>\n",
       "      <td>женат / замужем</td>\n",
       "      <td>0</td>\n",
       "      <td>M</td>\n",
       "      <td>госслужащий</td>\n",
       "      <td>0</td>\n",
       "      <td>NaN</td>\n",
       "      <td>операции с коммерческой недвижимостью</td>\n",
       "    </tr>\n",
       "    <tr>\n",
       "      <th>82</th>\n",
       "      <td>2</td>\n",
       "      <td>0.0</td>\n",
       "      <td>50</td>\n",
       "      <td>высшее</td>\n",
       "      <td>0</td>\n",
       "      <td>женат / замужем</td>\n",
       "      <td>0</td>\n",
       "      <td>F</td>\n",
       "      <td>сотрудник</td>\n",
       "      <td>0</td>\n",
       "      <td>NaN</td>\n",
       "      <td>жилье</td>\n",
       "    </tr>\n",
       "    <tr>\n",
       "      <th>83</th>\n",
       "      <td>0</td>\n",
       "      <td>0.0</td>\n",
       "      <td>52</td>\n",
       "      <td>среднее</td>\n",
       "      <td>1</td>\n",
       "      <td>женат / замужем</td>\n",
       "      <td>0</td>\n",
       "      <td>M</td>\n",
       "      <td>сотрудник</td>\n",
       "      <td>0</td>\n",
       "      <td>NaN</td>\n",
       "      <td>жилье</td>\n",
       "    </tr>\n",
       "  </tbody>\n",
       "</table>\n",
       "</div>"
      ],
      "text/plain": [
       "    children  days_employed  dob_years education  education_id  \\\n",
       "12         0            0.0         65   среднее             1   \n",
       "26         0            0.0         41   среднее             1   \n",
       "29         0            0.0         63   среднее             1   \n",
       "41         0            0.0         50   среднее             1   \n",
       "55         0            0.0         54   среднее             1   \n",
       "65         0            0.0         21   среднее             1   \n",
       "67         0            0.0         52    высшее             0   \n",
       "72         1            0.0         32    высшее             0   \n",
       "82         2            0.0         50    высшее             0   \n",
       "83         0            0.0         52   среднее             1   \n",
       "\n",
       "            family_status  family_status_id gender  income_type  debt  \\\n",
       "12       гражданский брак                 1      M    пенсионер     0   \n",
       "26        женат / замужем                 0      M  госслужащий     0   \n",
       "29  Не женат / не замужем                 4      F    пенсионер     0   \n",
       "41        женат / замужем                 0      F  госслужащий     0   \n",
       "55       гражданский брак                 1      F    пенсионер     1   \n",
       "65  Не женат / не замужем                 4      M    компаньон     0   \n",
       "67        женат / замужем                 0      F    пенсионер     0   \n",
       "72        женат / замужем                 0      M  госслужащий     0   \n",
       "82        женат / замужем                 0      F    сотрудник     0   \n",
       "83        женат / замужем                 0      M    сотрудник     0   \n",
       "\n",
       "    total_income                                purpose  \n",
       "12           NaN                        сыграть свадьбу  \n",
       "26           NaN                            образование  \n",
       "29           NaN       строительство жилой недвижимости  \n",
       "41           NaN       сделка с подержанным автомобилем  \n",
       "55           NaN                        сыграть свадьбу  \n",
       "65           NaN  операции с коммерческой недвижимостью  \n",
       "67           NaN                покупка жилья для семьи  \n",
       "72           NaN  операции с коммерческой недвижимостью  \n",
       "82           NaN                                  жилье  \n",
       "83           NaN                                  жилье  "
      ]
     },
     "metadata": {},
     "output_type": "display_data"
    }
   ],
   "source": [
    "# с помощью метода isnull() найдём все строки с пропущенным значением в 'days_employed' и заменим\n",
    "# их на 0\n",
    "customer_solvency['days_employed'] = customer_solvency['days_employed'].fillna(0)\n",
    "display(customer_solvency.loc[customer_solvency['days_employed'] == 0].head(10))"
   ]
  },
  {
   "cell_type": "markdown",
   "metadata": {},
   "source": [
    "- Рассмотрим столбец `total_income`.\n",
    "Сгруппируем данные по уровню образования и выведем статистические данные уровня доходов для каждой группы (минимальное, максимальное значения, среднее арифметические и медиану)"
   ]
  },
  {
   "cell_type": "code",
   "execution_count": 28,
   "metadata": {},
   "outputs": [
    {
     "data": {
      "text/html": [
       "<div>\n",
       "<style scoped>\n",
       "    .dataframe tbody tr th:only-of-type {\n",
       "        vertical-align: middle;\n",
       "    }\n",
       "\n",
       "    .dataframe tbody tr th {\n",
       "        vertical-align: top;\n",
       "    }\n",
       "\n",
       "    .dataframe thead tr th {\n",
       "        text-align: left;\n",
       "    }\n",
       "\n",
       "    .dataframe thead tr:last-of-type th {\n",
       "        text-align: right;\n",
       "    }\n",
       "</style>\n",
       "<table border=\"1\" class=\"dataframe\">\n",
       "  <thead>\n",
       "    <tr>\n",
       "      <th></th>\n",
       "      <th colspan=\"4\" halign=\"left\">total_income</th>\n",
       "    </tr>\n",
       "    <tr>\n",
       "      <th></th>\n",
       "      <th>min</th>\n",
       "      <th>max</th>\n",
       "      <th>mean</th>\n",
       "      <th>median</th>\n",
       "    </tr>\n",
       "    <tr>\n",
       "      <th>education_id</th>\n",
       "      <th></th>\n",
       "      <th></th>\n",
       "      <th></th>\n",
       "      <th></th>\n",
       "    </tr>\n",
       "  </thead>\n",
       "  <tbody>\n",
       "    <tr>\n",
       "      <th>0</th>\n",
       "      <td>32178.213678</td>\n",
       "      <td>2.265604e+06</td>\n",
       "      <td>207142.515219</td>\n",
       "      <td>175340.818855</td>\n",
       "    </tr>\n",
       "    <tr>\n",
       "      <th>1</th>\n",
       "      <td>20667.263793</td>\n",
       "      <td>1.726276e+06</td>\n",
       "      <td>153715.643971</td>\n",
       "      <td>136478.643244</td>\n",
       "    </tr>\n",
       "    <tr>\n",
       "      <th>2</th>\n",
       "      <td>34466.133539</td>\n",
       "      <td>9.584346e+05</td>\n",
       "      <td>181534.022774</td>\n",
       "      <td>160115.398644</td>\n",
       "    </tr>\n",
       "    <tr>\n",
       "      <th>3</th>\n",
       "      <td>25308.586849</td>\n",
       "      <td>4.900673e+05</td>\n",
       "      <td>132155.513626</td>\n",
       "      <td>117137.352825</td>\n",
       "    </tr>\n",
       "    <tr>\n",
       "      <th>4</th>\n",
       "      <td>98752.495442</td>\n",
       "      <td>2.684112e+05</td>\n",
       "      <td>174750.155792</td>\n",
       "      <td>157259.898555</td>\n",
       "    </tr>\n",
       "  </tbody>\n",
       "</table>\n",
       "</div>"
      ],
      "text/plain": [
       "              total_income                                            \n",
       "                       min           max           mean         median\n",
       "education_id                                                          \n",
       "0             32178.213678  2.265604e+06  207142.515219  175340.818855\n",
       "1             20667.263793  1.726276e+06  153715.643971  136478.643244\n",
       "2             34466.133539  9.584346e+05  181534.022774  160115.398644\n",
       "3             25308.586849  4.900673e+05  132155.513626  117137.352825\n",
       "4             98752.495442  2.684112e+05  174750.155792  157259.898555"
      ]
     },
     "metadata": {},
     "output_type": "display_data"
    }
   ],
   "source": [
    "# методом groupby() сгруппируем значения по 'education_id'.\n",
    "# методом agg() применим статистические функции к столбцу 'total_income'\n",
    "customer_solvency_stat = customer_solvency.groupby('education_id').agg({'total_income':['min','max','mean','median']})\n",
    "display(customer_solvency_stat)"
   ]
  },
  {
   "cell_type": "markdown",
   "metadata": {},
   "source": [
    "Минимальные и максимальные значения месячного дохода отличаются от средних примерно в 10 раз. Также средние значения достаточно сильно отличаются от медианных. В данном случае заполним пропуски медианами."
   ]
  },
  {
   "cell_type": "code",
   "execution_count": 29,
   "metadata": {},
   "outputs": [],
   "source": [
    "# для замены пропущенных значений используем метод fillna()\n",
    "# в аргументе метода сгруппируем данные по 'education_id' и для каждой группы посчитаем медианное \n",
    "# значение 'total_income'\n",
    "customer_solvency['total_income'] = customer_solvency['total_income'].fillna(customer_solvency.groupby('education_id')['total_income'].transform('median'))"
   ]
  },
  {
   "cell_type": "markdown",
   "metadata": {},
   "source": [
    "- Рассмотрим столбец `gender`:"
   ]
  },
  {
   "cell_type": "code",
   "execution_count": 30,
   "metadata": {},
   "outputs": [
    {
     "data": {
      "text/plain": [
       "F      14236\n",
       "M       7288\n",
       "XNA        1\n",
       "Name: gender, dtype: int64"
      ]
     },
     "metadata": {},
     "output_type": "display_data"
    },
    {
     "data": {
      "text/html": [
       "<div>\n",
       "<style scoped>\n",
       "    .dataframe tbody tr th:only-of-type {\n",
       "        vertical-align: middle;\n",
       "    }\n",
       "\n",
       "    .dataframe tbody tr th {\n",
       "        vertical-align: top;\n",
       "    }\n",
       "\n",
       "    .dataframe thead th {\n",
       "        text-align: right;\n",
       "    }\n",
       "</style>\n",
       "<table border=\"1\" class=\"dataframe\">\n",
       "  <thead>\n",
       "    <tr style=\"text-align: right;\">\n",
       "      <th></th>\n",
       "      <th>children</th>\n",
       "      <th>days_employed</th>\n",
       "      <th>dob_years</th>\n",
       "      <th>education</th>\n",
       "      <th>education_id</th>\n",
       "      <th>family_status</th>\n",
       "      <th>family_status_id</th>\n",
       "      <th>gender</th>\n",
       "      <th>income_type</th>\n",
       "      <th>debt</th>\n",
       "      <th>total_income</th>\n",
       "      <th>purpose</th>\n",
       "    </tr>\n",
       "  </thead>\n",
       "  <tbody>\n",
       "    <tr>\n",
       "      <th>10701</th>\n",
       "      <td>0</td>\n",
       "      <td>-2358.600502</td>\n",
       "      <td>24</td>\n",
       "      <td>неоконченное высшее</td>\n",
       "      <td>2</td>\n",
       "      <td>гражданский брак</td>\n",
       "      <td>1</td>\n",
       "      <td>XNA</td>\n",
       "      <td>компаньон</td>\n",
       "      <td>0</td>\n",
       "      <td>203905.157261</td>\n",
       "      <td>покупка недвижимости</td>\n",
       "    </tr>\n",
       "  </tbody>\n",
       "</table>\n",
       "</div>"
      ],
      "text/plain": [
       "       children  days_employed  dob_years            education  education_id  \\\n",
       "10701         0   -2358.600502         24  неоконченное высшее             2   \n",
       "\n",
       "          family_status  family_status_id gender income_type  debt  \\\n",
       "10701  гражданский брак                 1    XNA   компаньон     0   \n",
       "\n",
       "        total_income               purpose  \n",
       "10701  203905.157261  покупка недвижимости  "
      ]
     },
     "metadata": {},
     "output_type": "display_data"
    }
   ],
   "source": [
    "# найдем колличество вхождений каждого значения с помощью метода value_counts()\n",
    "display(customer_solvency['gender'].value_counts())\n",
    "display(customer_solvency.loc[customer_solvency['gender'] == 'XNA'])"
   ]
  },
  {
   "cell_type": "markdown",
   "metadata": {},
   "source": [
    "Некорректное значение `XNA` встречается 1 раз. По остальным значениям в данной записи невозможно \n",
    "определить пол клиента. Одну запись можно удалить. Это не повлияет на статистику."
   ]
  },
  {
   "cell_type": "code",
   "execution_count": 31,
   "metadata": {},
   "outputs": [],
   "source": [
    "customer_solvency = customer_solvency.loc[customer_solvency['gender'] != 'XNA']"
   ]
  },
  {
   "cell_type": "markdown",
   "metadata": {},
   "source": [
    "### Вывод"
   ]
  },
  {
   "cell_type": "markdown",
   "metadata": {},
   "source": [
    "Около 10% записей имеют пропущенные значения. В данных, не участвующих в дальнейших исследованиях, пропуски были заменены нулями, в столбце `total_income` данные были заменены медианными значениями по группам с соответствующим уровнем образования клиента. Одиночные строки с некорректными данными были удалены.  \n",
    "В столбце `days_employed` около 50% данных пропущены или некорректны. Необходимо дальнейшее исследование причин с сотрудниками банка."
   ]
  },
  {
   "cell_type": "markdown",
   "metadata": {},
   "source": [
    "### 2.2 Замена типа данных"
   ]
  },
  {
   "cell_type": "markdown",
   "metadata": {},
   "source": [
    "- Колличество трудовых дней может быть только целым числом. Так же сделаем ежемесячный доход целым числом для наглядности. \n",
    "- Преобразуем типы данных в столбцах `days_employed` и `total_income` c `float64` на целочисленный `int64`.\n",
    "- Преобразование проведем методом `astype()`. Он произведет изменение типа для вещественных чисел и выдаст ошибку, если данные изначально были введены некорректно (например, если встретятся данные в виде строк вместо вещественных чисел)"
   ]
  },
  {
   "cell_type": "code",
   "execution_count": 32,
   "metadata": {},
   "outputs": [],
   "source": [
    "# типы данных преобразуем методом astype().\n",
    "# с помощью try-except отслеживаем некорректные типы данных\n",
    "try:\n",
    "    customer_solvency['days_employed'] = customer_solvency['days_employed'].astype('int64')\n",
    "    customer_solvency['total_income'] = customer_solvency['total_income'].astype('int64')\n",
    "except:\n",
    "    print('Некорректный тип данных. Пожалуйста, убедитесь, что данные хранятся в виде вещественных чисел')"
   ]
  },
  {
   "cell_type": "markdown",
   "metadata": {},
   "source": [
    "### Вывод"
   ]
  },
  {
   "cell_type": "markdown",
   "metadata": {},
   "source": [
    "Вещественные данные успешно заменены на целочисленный тип `int64` применением метода `astype()`."
   ]
  },
  {
   "cell_type": "markdown",
   "metadata": {},
   "source": [
    "### 2.3 Удаление дубликатов"
   ]
  },
  {
   "cell_type": "markdown",
   "metadata": {},
   "source": [
    "- Для поиска дубликатов сперва преобразуем все строковые типы данных к нижнему регистру.\n",
    "- Затем посчитаем колличество дублированных строк и выведем их для анализа."
   ]
  },
  {
   "cell_type": "code",
   "execution_count": 33,
   "metadata": {},
   "outputs": [],
   "source": [
    "# для преобразования к нижнему регистру используем метод str.lower()\n",
    "# затем запишем преобразованные данные в таблицу\n",
    "customer_solvency['education'] = customer_solvency['education'].str.lower()\n",
    "customer_solvency['family_status'] = customer_solvency['family_status'].str.lower()"
   ]
  },
  {
   "cell_type": "code",
   "execution_count": 34,
   "metadata": {},
   "outputs": [
    {
     "name": "stdout",
     "output_type": "stream",
     "text": [
      "Колличество дублированных данных:  71\n"
     ]
    }
   ],
   "source": [
    "print('Колличество дублированных данных: ', customer_solvency.duplicated().sum())"
   ]
  },
  {
   "cell_type": "code",
   "execution_count": 35,
   "metadata": {},
   "outputs": [
    {
     "data": {
      "text/html": [
       "<div>\n",
       "<style scoped>\n",
       "    .dataframe tbody tr th:only-of-type {\n",
       "        vertical-align: middle;\n",
       "    }\n",
       "\n",
       "    .dataframe tbody tr th {\n",
       "        vertical-align: top;\n",
       "    }\n",
       "\n",
       "    .dataframe thead th {\n",
       "        text-align: right;\n",
       "    }\n",
       "</style>\n",
       "<table border=\"1\" class=\"dataframe\">\n",
       "  <thead>\n",
       "    <tr style=\"text-align: right;\">\n",
       "      <th></th>\n",
       "      <th>children</th>\n",
       "      <th>days_employed</th>\n",
       "      <th>dob_years</th>\n",
       "      <th>education</th>\n",
       "      <th>education_id</th>\n",
       "      <th>family_status</th>\n",
       "      <th>family_status_id</th>\n",
       "      <th>gender</th>\n",
       "      <th>income_type</th>\n",
       "      <th>debt</th>\n",
       "      <th>total_income</th>\n",
       "      <th>purpose</th>\n",
       "    </tr>\n",
       "  </thead>\n",
       "  <tbody>\n",
       "    <tr>\n",
       "      <th>2849</th>\n",
       "      <td>0</td>\n",
       "      <td>0</td>\n",
       "      <td>41</td>\n",
       "      <td>среднее</td>\n",
       "      <td>1</td>\n",
       "      <td>женат / замужем</td>\n",
       "      <td>0</td>\n",
       "      <td>F</td>\n",
       "      <td>сотрудник</td>\n",
       "      <td>0</td>\n",
       "      <td>136478</td>\n",
       "      <td>покупка жилья для семьи</td>\n",
       "    </tr>\n",
       "    <tr>\n",
       "      <th>3290</th>\n",
       "      <td>0</td>\n",
       "      <td>0</td>\n",
       "      <td>58</td>\n",
       "      <td>среднее</td>\n",
       "      <td>1</td>\n",
       "      <td>гражданский брак</td>\n",
       "      <td>1</td>\n",
       "      <td>F</td>\n",
       "      <td>пенсионер</td>\n",
       "      <td>0</td>\n",
       "      <td>136478</td>\n",
       "      <td>сыграть свадьбу</td>\n",
       "    </tr>\n",
       "    <tr>\n",
       "      <th>4182</th>\n",
       "      <td>1</td>\n",
       "      <td>0</td>\n",
       "      <td>34</td>\n",
       "      <td>высшее</td>\n",
       "      <td>0</td>\n",
       "      <td>гражданский брак</td>\n",
       "      <td>1</td>\n",
       "      <td>F</td>\n",
       "      <td>сотрудник</td>\n",
       "      <td>0</td>\n",
       "      <td>175340</td>\n",
       "      <td>свадьба</td>\n",
       "    </tr>\n",
       "    <tr>\n",
       "      <th>4851</th>\n",
       "      <td>0</td>\n",
       "      <td>0</td>\n",
       "      <td>60</td>\n",
       "      <td>среднее</td>\n",
       "      <td>1</td>\n",
       "      <td>гражданский брак</td>\n",
       "      <td>1</td>\n",
       "      <td>F</td>\n",
       "      <td>пенсионер</td>\n",
       "      <td>0</td>\n",
       "      <td>136478</td>\n",
       "      <td>свадьба</td>\n",
       "    </tr>\n",
       "    <tr>\n",
       "      <th>5557</th>\n",
       "      <td>0</td>\n",
       "      <td>0</td>\n",
       "      <td>58</td>\n",
       "      <td>среднее</td>\n",
       "      <td>1</td>\n",
       "      <td>гражданский брак</td>\n",
       "      <td>1</td>\n",
       "      <td>F</td>\n",
       "      <td>пенсионер</td>\n",
       "      <td>0</td>\n",
       "      <td>136478</td>\n",
       "      <td>сыграть свадьбу</td>\n",
       "    </tr>\n",
       "    <tr>\n",
       "      <th>6312</th>\n",
       "      <td>0</td>\n",
       "      <td>0</td>\n",
       "      <td>30</td>\n",
       "      <td>среднее</td>\n",
       "      <td>1</td>\n",
       "      <td>женат / замужем</td>\n",
       "      <td>0</td>\n",
       "      <td>M</td>\n",
       "      <td>сотрудник</td>\n",
       "      <td>0</td>\n",
       "      <td>136478</td>\n",
       "      <td>строительство жилой недвижимости</td>\n",
       "    </tr>\n",
       "    <tr>\n",
       "      <th>7808</th>\n",
       "      <td>0</td>\n",
       "      <td>0</td>\n",
       "      <td>57</td>\n",
       "      <td>среднее</td>\n",
       "      <td>1</td>\n",
       "      <td>гражданский брак</td>\n",
       "      <td>1</td>\n",
       "      <td>F</td>\n",
       "      <td>пенсионер</td>\n",
       "      <td>0</td>\n",
       "      <td>136478</td>\n",
       "      <td>на проведение свадьбы</td>\n",
       "    </tr>\n",
       "    <tr>\n",
       "      <th>7921</th>\n",
       "      <td>0</td>\n",
       "      <td>0</td>\n",
       "      <td>64</td>\n",
       "      <td>высшее</td>\n",
       "      <td>0</td>\n",
       "      <td>гражданский брак</td>\n",
       "      <td>1</td>\n",
       "      <td>F</td>\n",
       "      <td>пенсионер</td>\n",
       "      <td>0</td>\n",
       "      <td>175340</td>\n",
       "      <td>на проведение свадьбы</td>\n",
       "    </tr>\n",
       "    <tr>\n",
       "      <th>7938</th>\n",
       "      <td>0</td>\n",
       "      <td>0</td>\n",
       "      <td>71</td>\n",
       "      <td>среднее</td>\n",
       "      <td>1</td>\n",
       "      <td>гражданский брак</td>\n",
       "      <td>1</td>\n",
       "      <td>F</td>\n",
       "      <td>пенсионер</td>\n",
       "      <td>0</td>\n",
       "      <td>136478</td>\n",
       "      <td>на проведение свадьбы</td>\n",
       "    </tr>\n",
       "    <tr>\n",
       "      <th>8583</th>\n",
       "      <td>0</td>\n",
       "      <td>0</td>\n",
       "      <td>58</td>\n",
       "      <td>высшее</td>\n",
       "      <td>0</td>\n",
       "      <td>не женат / не замужем</td>\n",
       "      <td>4</td>\n",
       "      <td>F</td>\n",
       "      <td>пенсионер</td>\n",
       "      <td>0</td>\n",
       "      <td>175340</td>\n",
       "      <td>дополнительное образование</td>\n",
       "    </tr>\n",
       "  </tbody>\n",
       "</table>\n",
       "</div>"
      ],
      "text/plain": [
       "      children  days_employed  dob_years education  education_id  \\\n",
       "2849         0              0         41   среднее             1   \n",
       "3290         0              0         58   среднее             1   \n",
       "4182         1              0         34    высшее             0   \n",
       "4851         0              0         60   среднее             1   \n",
       "5557         0              0         58   среднее             1   \n",
       "6312         0              0         30   среднее             1   \n",
       "7808         0              0         57   среднее             1   \n",
       "7921         0              0         64    высшее             0   \n",
       "7938         0              0         71   среднее             1   \n",
       "8583         0              0         58    высшее             0   \n",
       "\n",
       "              family_status  family_status_id gender income_type  debt  \\\n",
       "2849        женат / замужем                 0      F   сотрудник     0   \n",
       "3290       гражданский брак                 1      F   пенсионер     0   \n",
       "4182       гражданский брак                 1      F   сотрудник     0   \n",
       "4851       гражданский брак                 1      F   пенсионер     0   \n",
       "5557       гражданский брак                 1      F   пенсионер     0   \n",
       "6312        женат / замужем                 0      M   сотрудник     0   \n",
       "7808       гражданский брак                 1      F   пенсионер     0   \n",
       "7921       гражданский брак                 1      F   пенсионер     0   \n",
       "7938       гражданский брак                 1      F   пенсионер     0   \n",
       "8583  не женат / не замужем                 4      F   пенсионер     0   \n",
       "\n",
       "      total_income                           purpose  \n",
       "2849        136478           покупка жилья для семьи  \n",
       "3290        136478                   сыграть свадьбу  \n",
       "4182        175340                           свадьба  \n",
       "4851        136478                           свадьба  \n",
       "5557        136478                   сыграть свадьбу  \n",
       "6312        136478  строительство жилой недвижимости  \n",
       "7808        136478             на проведение свадьбы  \n",
       "7921        175340             на проведение свадьбы  \n",
       "7938        136478             на проведение свадьбы  \n",
       "8583        175340        дополнительное образование  "
      ]
     },
     "metadata": {},
     "output_type": "display_data"
    }
   ],
   "source": [
    "display(customer_solvency.loc[customer_solvency.duplicated()].head(10))"
   ]
  },
  {
   "cell_type": "markdown",
   "metadata": {},
   "source": [
    "- Все дублированные данные являются строками, в которых ранее были обработаны пропущенные значения.\n",
    "Поскольку в таблице нет уникальных идентификаторов клиентов, невозможно точно отверждать: данные дублированы или информация по разным клиентам совпала случайным образом.\n",
    "- Возможные причины появления дубликатов: повторное заполнение или сохранение данных о клиенте в базе данных, сбой в системе при копировании/выгрузке базы данных.\n",
    "- Удалим дублированные строки в учебных целях. Для этого используем метод `drop_duplicates()` и восстановим индексы после удаления строк методом `reset_index()`"
   ]
  },
  {
   "cell_type": "code",
   "execution_count": 36,
   "metadata": {},
   "outputs": [
    {
     "name": "stdout",
     "output_type": "stream",
     "text": [
      "Колличество строк после удаления дубликатов: 21453\n"
     ]
    }
   ],
   "source": [
    "customer_solvency = customer_solvency.drop_duplicates().reset_index(drop = True)\n",
    "print('Колличество строк после удаления дубликатов:', len(customer_solvency))"
   ]
  },
  {
   "cell_type": "markdown",
   "metadata": {},
   "source": [
    "### Вывод"
   ]
  },
  {
   "cell_type": "markdown",
   "metadata": {},
   "source": [
    "Былы обнаружены и успешно удалены 71 дубликат.  \n",
    "Возможные причины появления дубликатов: повторное заполнение или сохранение данных о клиенте в базе данных, сбой в системе при копировании/выгрузке базы данных."
   ]
  },
  {
   "cell_type": "markdown",
   "metadata": {},
   "source": [
    "### 2.4 Лемматизация целей получения кредитов"
   ]
  },
  {
   "cell_type": "markdown",
   "metadata": {},
   "source": [
    "Выведем все возможные цели получения кредитов для анализа. Используем метод `value_counts()`."
   ]
  },
  {
   "cell_type": "code",
   "execution_count": 37,
   "metadata": {
    "scrolled": true
   },
   "outputs": [
    {
     "data": {
      "text/html": [
       "<div>\n",
       "<style scoped>\n",
       "    .dataframe tbody tr th:only-of-type {\n",
       "        vertical-align: middle;\n",
       "    }\n",
       "\n",
       "    .dataframe tbody tr th {\n",
       "        vertical-align: top;\n",
       "    }\n",
       "\n",
       "    .dataframe thead th {\n",
       "        text-align: right;\n",
       "    }\n",
       "</style>\n",
       "<table border=\"1\" class=\"dataframe\">\n",
       "  <thead>\n",
       "    <tr style=\"text-align: right;\">\n",
       "      <th></th>\n",
       "      <th>purpose</th>\n",
       "      <th>purpose_category</th>\n",
       "    </tr>\n",
       "  </thead>\n",
       "  <tbody>\n",
       "    <tr>\n",
       "      <th>0</th>\n",
       "      <td>покупка жилья</td>\n",
       "      <td>NaN</td>\n",
       "    </tr>\n",
       "    <tr>\n",
       "      <th>1</th>\n",
       "      <td>приобретение автомобиля</td>\n",
       "      <td>NaN</td>\n",
       "    </tr>\n",
       "    <tr>\n",
       "      <th>2</th>\n",
       "      <td>дополнительное образование</td>\n",
       "      <td>NaN</td>\n",
       "    </tr>\n",
       "    <tr>\n",
       "      <th>3</th>\n",
       "      <td>сыграть свадьбу</td>\n",
       "      <td>NaN</td>\n",
       "    </tr>\n",
       "    <tr>\n",
       "      <th>4</th>\n",
       "      <td>операции с жильем</td>\n",
       "      <td>NaN</td>\n",
       "    </tr>\n",
       "    <tr>\n",
       "      <th>5</th>\n",
       "      <td>образование</td>\n",
       "      <td>NaN</td>\n",
       "    </tr>\n",
       "    <tr>\n",
       "      <th>6</th>\n",
       "      <td>на проведение свадьбы</td>\n",
       "      <td>NaN</td>\n",
       "    </tr>\n",
       "    <tr>\n",
       "      <th>7</th>\n",
       "      <td>покупка жилья для семьи</td>\n",
       "      <td>NaN</td>\n",
       "    </tr>\n",
       "    <tr>\n",
       "      <th>8</th>\n",
       "      <td>покупка недвижимости</td>\n",
       "      <td>NaN</td>\n",
       "    </tr>\n",
       "    <tr>\n",
       "      <th>9</th>\n",
       "      <td>покупка коммерческой недвижимости</td>\n",
       "      <td>NaN</td>\n",
       "    </tr>\n",
       "    <tr>\n",
       "      <th>10</th>\n",
       "      <td>покупка жилой недвижимости</td>\n",
       "      <td>NaN</td>\n",
       "    </tr>\n",
       "    <tr>\n",
       "      <th>11</th>\n",
       "      <td>строительство собственной недвижимости</td>\n",
       "      <td>NaN</td>\n",
       "    </tr>\n",
       "    <tr>\n",
       "      <th>12</th>\n",
       "      <td>недвижимость</td>\n",
       "      <td>NaN</td>\n",
       "    </tr>\n",
       "    <tr>\n",
       "      <th>13</th>\n",
       "      <td>строительство недвижимости</td>\n",
       "      <td>NaN</td>\n",
       "    </tr>\n",
       "    <tr>\n",
       "      <th>14</th>\n",
       "      <td>на покупку подержанного автомобиля</td>\n",
       "      <td>NaN</td>\n",
       "    </tr>\n",
       "    <tr>\n",
       "      <th>15</th>\n",
       "      <td>на покупку своего автомобиля</td>\n",
       "      <td>NaN</td>\n",
       "    </tr>\n",
       "    <tr>\n",
       "      <th>16</th>\n",
       "      <td>операции с коммерческой недвижимостью</td>\n",
       "      <td>NaN</td>\n",
       "    </tr>\n",
       "    <tr>\n",
       "      <th>17</th>\n",
       "      <td>строительство жилой недвижимости</td>\n",
       "      <td>NaN</td>\n",
       "    </tr>\n",
       "    <tr>\n",
       "      <th>18</th>\n",
       "      <td>жилье</td>\n",
       "      <td>NaN</td>\n",
       "    </tr>\n",
       "    <tr>\n",
       "      <th>19</th>\n",
       "      <td>операции со своей недвижимостью</td>\n",
       "      <td>NaN</td>\n",
       "    </tr>\n",
       "    <tr>\n",
       "      <th>20</th>\n",
       "      <td>автомобили</td>\n",
       "      <td>NaN</td>\n",
       "    </tr>\n",
       "    <tr>\n",
       "      <th>21</th>\n",
       "      <td>заняться образованием</td>\n",
       "      <td>NaN</td>\n",
       "    </tr>\n",
       "    <tr>\n",
       "      <th>22</th>\n",
       "      <td>сделка с подержанным автомобилем</td>\n",
       "      <td>NaN</td>\n",
       "    </tr>\n",
       "    <tr>\n",
       "      <th>23</th>\n",
       "      <td>получение образования</td>\n",
       "      <td>NaN</td>\n",
       "    </tr>\n",
       "    <tr>\n",
       "      <th>24</th>\n",
       "      <td>автомобиль</td>\n",
       "      <td>NaN</td>\n",
       "    </tr>\n",
       "    <tr>\n",
       "      <th>25</th>\n",
       "      <td>свадьба</td>\n",
       "      <td>NaN</td>\n",
       "    </tr>\n",
       "    <tr>\n",
       "      <th>26</th>\n",
       "      <td>получение дополнительного образования</td>\n",
       "      <td>NaN</td>\n",
       "    </tr>\n",
       "    <tr>\n",
       "      <th>27</th>\n",
       "      <td>покупка своего жилья</td>\n",
       "      <td>NaN</td>\n",
       "    </tr>\n",
       "    <tr>\n",
       "      <th>28</th>\n",
       "      <td>операции с недвижимостью</td>\n",
       "      <td>NaN</td>\n",
       "    </tr>\n",
       "    <tr>\n",
       "      <th>29</th>\n",
       "      <td>получение высшего образования</td>\n",
       "      <td>NaN</td>\n",
       "    </tr>\n",
       "    <tr>\n",
       "      <th>30</th>\n",
       "      <td>свой автомобиль</td>\n",
       "      <td>NaN</td>\n",
       "    </tr>\n",
       "    <tr>\n",
       "      <th>31</th>\n",
       "      <td>сделка с автомобилем</td>\n",
       "      <td>NaN</td>\n",
       "    </tr>\n",
       "    <tr>\n",
       "      <th>32</th>\n",
       "      <td>профильное образование</td>\n",
       "      <td>NaN</td>\n",
       "    </tr>\n",
       "    <tr>\n",
       "      <th>33</th>\n",
       "      <td>высшее образование</td>\n",
       "      <td>NaN</td>\n",
       "    </tr>\n",
       "    <tr>\n",
       "      <th>34</th>\n",
       "      <td>покупка жилья для сдачи</td>\n",
       "      <td>NaN</td>\n",
       "    </tr>\n",
       "    <tr>\n",
       "      <th>35</th>\n",
       "      <td>на покупку автомобиля</td>\n",
       "      <td>NaN</td>\n",
       "    </tr>\n",
       "    <tr>\n",
       "      <th>36</th>\n",
       "      <td>ремонт жилью</td>\n",
       "      <td>NaN</td>\n",
       "    </tr>\n",
       "    <tr>\n",
       "      <th>37</th>\n",
       "      <td>заняться высшим образованием</td>\n",
       "      <td>NaN</td>\n",
       "    </tr>\n",
       "  </tbody>\n",
       "</table>\n",
       "</div>"
      ],
      "text/plain": [
       "                                   purpose purpose_category\n",
       "0                            покупка жилья              NaN\n",
       "1                  приобретение автомобиля              NaN\n",
       "2               дополнительное образование              NaN\n",
       "3                          сыграть свадьбу              NaN\n",
       "4                        операции с жильем              NaN\n",
       "5                              образование              NaN\n",
       "6                    на проведение свадьбы              NaN\n",
       "7                  покупка жилья для семьи              NaN\n",
       "8                     покупка недвижимости              NaN\n",
       "9        покупка коммерческой недвижимости              NaN\n",
       "10              покупка жилой недвижимости              NaN\n",
       "11  строительство собственной недвижимости              NaN\n",
       "12                            недвижимость              NaN\n",
       "13              строительство недвижимости              NaN\n",
       "14      на покупку подержанного автомобиля              NaN\n",
       "15            на покупку своего автомобиля              NaN\n",
       "16   операции с коммерческой недвижимостью              NaN\n",
       "17        строительство жилой недвижимости              NaN\n",
       "18                                   жилье              NaN\n",
       "19         операции со своей недвижимостью              NaN\n",
       "20                              автомобили              NaN\n",
       "21                   заняться образованием              NaN\n",
       "22        сделка с подержанным автомобилем              NaN\n",
       "23                   получение образования              NaN\n",
       "24                              автомобиль              NaN\n",
       "25                                 свадьба              NaN\n",
       "26   получение дополнительного образования              NaN\n",
       "27                    покупка своего жилья              NaN\n",
       "28                операции с недвижимостью              NaN\n",
       "29           получение высшего образования              NaN\n",
       "30                         свой автомобиль              NaN\n",
       "31                    сделка с автомобилем              NaN\n",
       "32                  профильное образование              NaN\n",
       "33                      высшее образование              NaN\n",
       "34                 покупка жилья для сдачи              NaN\n",
       "35                   на покупку автомобиля              NaN\n",
       "36                            ремонт жилью              NaN\n",
       "37            заняться высшим образованием              NaN"
      ]
     },
     "metadata": {},
     "output_type": "display_data"
    }
   ],
   "source": [
    "# в таблице purposes будем хранить исходные цели для кредитов и созданные после лемматизации категории\n",
    "purposes = pd.DataFrame(columns = ['purpose', 'purpose_category'])\n",
    "# найдем все цели в таблице data с помощью метода unique() и запишем их в новую таблицу\n",
    "purposes['purpose'] = customer_solvency['purpose'].unique()\n",
    "display(purposes)"
   ]
  },
  {
   "cell_type": "markdown",
   "metadata": {},
   "source": [
    "Лемматизацию будем проводить с помощью библиотеки `pymystem3`. Преобразуем каждую строку в столбце `purpose` в список лемм и разделим их на 6 групп:  \n",
    "**1) свадьба:** найдено несколько описаний целей, характеризующих необходимость кредита для проведения свадьбы. Сумма и срок кредита могут быть сравнительно небольшими и сильно отличаться от кредитов на другие цели. Следоватнельно, статистика по задолженностям может отличаться. По этой причине создаем отдельную цель.  \n",
    "**2) автомобиль:** в данную категорию вынесены кредиты на проведение различных операций с автомобилем (покупка, обмен, иные сделки). Аналогично с целью 'свадьба' сумма и сроки кредита могут быть сравнительно небольшими. Но обязанности погашения задолженности могут ложиться как на семью (для семейного автомобиля), так и на одного человека. Следовательно, статистика по задолженностям может отличаться. Для этого создаём отдельную группу.  \n",
    "**3) жилье/недвижимость:** в таблице данных выделено множество целей, связанных с недвижимостью. Причём одни цели могут относиться к частному жилью, другие к комерческой недвижимости. Частные и юридические лица могут сильно отличаться друг от друга. По данной таблице сложно определить эти две подкатегории. Необходимо обратиться к специалистам банка для более точного разделения целей и клиентов на категории. Однако в основном кредиты, связанные с недвижимостью, предполагают большие суммы заёма и долгие сроки. Как частные, так и юридические лица относятся серьёзно к таким кредитам. Поэтому статистика по задолженностям может быть схожей среди описанных подкатегорий и отличаться от остальных групп. Для всех кредитов, связанных с недвижимостью, выделяем одну категорию.  \n",
    "**4) образование:** кредит на образование могут брать как взрослые клиенты со стабильным доходом, так и студенты, не имеющие стабильный доход, но получившие грант на образование. Такие кредиты могут браться на сравнительно долгий срок (срок обучения). Дата начала возврата денежных средств может быть отложена на несколько лет до получения диплома. Ввиду особых условий данной цели кредита выделяем отдельную группу.  \n",
    "**5) ремонт:** с одной стороны данная цель коррелирует с целью 'жилье/недвижимость', но сумма и срок кредита в данном случае обычно гораздо меньше. Значит и результаты по задолженностям могут отличаться. Поэтому выносим 'ремонт' в отдельную категорию.   \n",
    "**6) другое:** для возможных несовпадений с основными целями  "
   ]
  },
  {
   "cell_type": "code",
   "execution_count": 38,
   "metadata": {},
   "outputs": [
    {
     "ename": "NameError",
     "evalue": "name 'Mystem' is not defined",
     "output_type": "error",
     "traceback": [
      "\u001b[0;31m---------------------------------------------------------------------------\u001b[0m",
      "\u001b[0;31mNameError\u001b[0m                                 Traceback (most recent call last)",
      "\u001b[0;32m/var/folders/3y/9g66ffzn3pqgvjmly0907bcr0000gn/T/ipykernel_21074/911227785.py\u001b[0m in \u001b[0;36m<module>\u001b[0;34m\u001b[0m\n\u001b[1;32m      1\u001b[0m \u001b[0;31m# инициируем Mystem() и запишем в переменнную m\u001b[0m\u001b[0;34m\u001b[0m\u001b[0;34m\u001b[0m\u001b[0m\n\u001b[0;32m----> 2\u001b[0;31m \u001b[0mm\u001b[0m \u001b[0;34m=\u001b[0m \u001b[0mMystem\u001b[0m\u001b[0;34m(\u001b[0m\u001b[0;34m)\u001b[0m\u001b[0;34m\u001b[0m\u001b[0;34m\u001b[0m\u001b[0m\n\u001b[0m\u001b[1;32m      3\u001b[0m \u001b[0;32mdef\u001b[0m \u001b[0mlemm_categorize\u001b[0m\u001b[0;34m(\u001b[0m\u001b[0mpurpose\u001b[0m\u001b[0;34m)\u001b[0m\u001b[0;34m:\u001b[0m\u001b[0;34m\u001b[0m\u001b[0;34m\u001b[0m\u001b[0m\n\u001b[1;32m      4\u001b[0m     \"\"\"\n\u001b[1;32m      5\u001b[0m     \u001b[0minput\u001b[0m\u001b[0;34m:\u001b[0m \u001b[0mpurpose\u001b[0m \u001b[0;34m(\u001b[0m\u001b[0mobject\u001b[0m\u001b[0;34m)\u001b[0m \u001b[0;34m-\u001b[0m \u001b[0mстрока\u001b[0m\u001b[0;34m,\u001b[0m \u001b[0mописывает\u001b[0m \u001b[0mцель\u001b[0m \u001b[0mдля\u001b[0m \u001b[0mкредита\u001b[0m\u001b[0;34m\u001b[0m\u001b[0;34m\u001b[0m\u001b[0m\n",
      "\u001b[0;31mNameError\u001b[0m: name 'Mystem' is not defined"
     ]
    }
   ],
   "source": [
    "# инициируем Mystem() и запишем в переменнную m\n",
    "m = Mystem()\n",
    "def lemm_categorize(purpose):\n",
    "    \"\"\"\n",
    "    input: purpose (object) - строка, описывает цель для кредита\n",
    "    output: (object) - строка, название категории для цели кредита\n",
    "    Функция принимает на вход цель кредита, лемматизирует ее и по встречающимся в цели леммам\n",
    "    определяет категорию цели:\n",
    "    \n",
    "    Лемма:       Категория:\n",
    "    свадьба      свадьба\n",
    "    ремонт       ремонт\n",
    "    автомобиль   автомобиль\n",
    "    образование  образование\n",
    "    жилье        жилье/недвижимость\n",
    "    недвижимость жилье/недвижимость\n",
    "    \n",
    "    При несовпадении лемм ни с одной из категорий присваивается категория 'другое'\n",
    "    \"\"\"\n",
    "    lemmas = m.lemmatize(purpose)\n",
    "    if 'свадьба' in lemmas:\n",
    "        return 'свадьба'\n",
    "    elif 'ремонт' in lemmas:\n",
    "        return 'ремонт'\n",
    "    elif 'автомобиль' in lemmas:\n",
    "        return 'автомобиль'\n",
    "    elif 'образование' in lemmas:\n",
    "        return 'образование'\n",
    "    elif 'жилье' in lemmas or 'недвижимость' in lemmas:\n",
    "        return 'жилье/недвижимость'\n",
    "    else:\n",
    "        return 'другое'"
   ]
  },
  {
   "cell_type": "code",
   "execution_count": 39,
   "metadata": {},
   "outputs": [
    {
     "ename": "NameError",
     "evalue": "name 'lemm_categorize' is not defined",
     "output_type": "error",
     "traceback": [
      "\u001b[0;31m---------------------------------------------------------------------------\u001b[0m",
      "\u001b[0;31mNameError\u001b[0m                                 Traceback (most recent call last)",
      "\u001b[0;32m/var/folders/3y/9g66ffzn3pqgvjmly0907bcr0000gn/T/ipykernel_21074/3108328641.py\u001b[0m in \u001b[0;36m<module>\u001b[0;34m\u001b[0m\n\u001b[1;32m      1\u001b[0m \u001b[0;31m# для каждой цели в таблице purposes вызывается функция lemm_categorize с помощью метода apply().\u001b[0m\u001b[0;34m\u001b[0m\u001b[0;34m\u001b[0m\u001b[0m\n\u001b[1;32m      2\u001b[0m \u001b[0;31m# возвращенные функцией категории целей записываются в столбец 'purpose_category'\u001b[0m\u001b[0;34m\u001b[0m\u001b[0;34m\u001b[0m\u001b[0m\n\u001b[0;32m----> 3\u001b[0;31m \u001b[0mpurposes\u001b[0m\u001b[0;34m[\u001b[0m\u001b[0;34m'purpose_category'\u001b[0m\u001b[0;34m]\u001b[0m \u001b[0;34m=\u001b[0m \u001b[0mpurposes\u001b[0m\u001b[0;34m[\u001b[0m\u001b[0;34m'purpose'\u001b[0m\u001b[0;34m]\u001b[0m\u001b[0;34m.\u001b[0m\u001b[0mapply\u001b[0m\u001b[0;34m(\u001b[0m\u001b[0mlemm_categorize\u001b[0m\u001b[0;34m)\u001b[0m\u001b[0;34m\u001b[0m\u001b[0;34m\u001b[0m\u001b[0m\n\u001b[0m",
      "\u001b[0;31mNameError\u001b[0m: name 'lemm_categorize' is not defined"
     ]
    }
   ],
   "source": [
    "# для каждой цели в таблице purposes вызывается функция lemm_categorize с помощью метода apply().\n",
    "# возвращенные функцией категории целей записываются в столбец 'purpose_category'\n",
    "purposes['purpose_category'] = purposes['purpose'].apply(lemm_categorize)"
   ]
  },
  {
   "cell_type": "code",
   "execution_count": null,
   "metadata": {},
   "outputs": [],
   "source": [
    "display(purposes.head(10))"
   ]
  },
  {
   "cell_type": "markdown",
   "metadata": {},
   "source": [
    "Категории целей кредитов успешно присвоены к каждой цели. С помощью метода `merge()` добавим `purpose_category` к основной таблице `data`:"
   ]
  },
  {
   "cell_type": "code",
   "execution_count": null,
   "metadata": {},
   "outputs": [],
   "source": [
    "customer_solvency = customer_solvency.merge(purposes, on='purpose', how='left')\n",
    "display(customer_solvency.head(10))"
   ]
  },
  {
   "cell_type": "markdown",
   "metadata": {},
   "source": [
    "### Вывод"
   ]
  },
  {
   "cell_type": "markdown",
   "metadata": {},
   "source": [
    "Среди целей на получение кредита было выделено 5 основных групп: `свадьба`, `ремонт`, `автомобиль`, `образование`, `жилье/недвижимость`.  \n",
    "Для целей, не подходящих ни под одну категорию была выделена группа `другое`. (для возможных новых целей при дальнейшем накапливании данных).  \n",
    "Лемматизация целей проводилась с использованием библиотеки `pymystem3`."
   ]
  },
  {
   "cell_type": "markdown",
   "metadata": {},
   "source": [
    "### 2.5 Категоризация данных"
   ]
  },
  {
   "cell_type": "markdown",
   "metadata": {},
   "source": [
    "1. В предыдущем шаге был создан словарь для целей кредита. На данном шаге заменим столбец `purpose` в основной таблице на идентификатор `purpose_id`, а описание каждой цели будет храниться только в словаре. Так основная таблица будет занимать меньше места и станет более наглядной.\n",
    "2. Также уберем из основной таблицы семейное положение `family_status` и уровень образования клиента `education`, оставив только идентификаторы `education_id` и `family_status_id`. Удаленные из основной таблицы данные будут храниться в словарях `education_dict` и `family_status_dict` соответственно. Так основная таблица станет более наглядна. Названия для отчетов можно будет позже брать из словарей.\n",
    "3. Категоризируем данные о колличестве детей в семье. Разделим данные на категории:\n",
    "    - 0: Нет детей\n",
    "    - 1: Один ребенок\n",
    "    - 2: Двое детей\n",
    "    - 3: Многодетная семья\n",
    "    - 4: Статус неизвестен (значение -1 в столбце `children`)  \n",
    "Таким образом можно будет исследовать влияние семейного положения на кредитную историю клиентов.\n",
    "4. Категоризируем данные о ежемесячном доходе. Разделим клиентов на 6 равных категорий по уровню доходов (примерно по 3500 клиентов в каждой категории). Одинаковые размеры выборки в каждой категории обеспечат более надёжные статистические результаты исследования.  \n",
    "Таким образом клиентов можно будет сгруппировать по уровню дохода и исследовать кредитные истории отдельных групп."
   ]
  },
  {
   "cell_type": "code",
   "execution_count": null,
   "metadata": {},
   "outputs": [],
   "source": [
    "# создадим в таблице purposes столбцы purpose_id и purpose_cat_id\n",
    "purposes['purpose_id'] = purposes.index\n",
    "\n",
    "def set_purpose_cat_id(purpose_category):\n",
    "    \"\"\"\n",
    "    input: purpose_category (object) - строка, описывает категорию цели для кредита\n",
    "    output: (int64) - целое число, идентификатор категории цели кредита\n",
    "    Функция принимает на вход категорию цели кредита, и сопоставляет ей уникальное \n",
    "    десятичное целое число (идентификатор):\n",
    "    \n",
    "    Категория:          Идентификатор:\n",
    "    свадьба             0\n",
    "    ремонт              1\n",
    "    автомобиль          2\n",
    "    образование         3 \n",
    "    жилье/недвижимость  4\n",
    "    неопределённая кат. 5\n",
    "    \"\"\"\n",
    "    \n",
    "    if purpose_category == 'свадьба':\n",
    "        return 0\n",
    "    elif purpose_category == 'ремонт':\n",
    "        return 1\n",
    "    elif purpose_category == 'автомобиль':\n",
    "        return 2\n",
    "    elif purpose_category == 'образование':\n",
    "        return 3\n",
    "    elif purpose_category == 'жилье/недвижимость':\n",
    "        return 4\n",
    "    else:\n",
    "        return 5\n",
    "\n",
    "# с помощью метода apply применяем функцию set_purpose_cat_id ко всем 'purpose_category' \n",
    "# в таблице 'purposes'\n",
    "purposes['purpose_cat_id'] = purposes['purpose_category'].apply(set_purpose_cat_id)\n",
    "display(purposes.head(10))"
   ]
  },
  {
   "cell_type": "code",
   "execution_count": null,
   "metadata": {},
   "outputs": [],
   "source": [
    "# с помощью метода merge добавим 'purpose_id' и 'purpose_cat_id' в основную таблицу\n",
    "# и удалим из нее столбцы 'purpose' и 'purpose_category' методом drop().\n",
    "customer_solvency = customer_solvency.merge(purposes, on=['purpose', 'purpose_category'], how='left')\n",
    "customer_solvency = customer_solvency.drop(['purpose', 'purpose_category'], axis = 1)\n",
    "display(customer_solvency.head(10))"
   ]
  },
  {
   "cell_type": "code",
   "execution_count": null,
   "metadata": {},
   "outputs": [],
   "source": [
    "# создадим словари для уровня образования и семейного статуса и удалим столбцы из основной таблицы.\n",
    "# выведем столбцы 'education', 'education_id', уберем дубликаты и сбросим индексы.\n",
    "# результат сохраним в таблице education_dict\n",
    "education_dict = customer_solvency[['education', 'education_id']].drop_duplicates().reset_index(drop=True)\n",
    "display(education_dict)"
   ]
  },
  {
   "cell_type": "code",
   "execution_count": null,
   "metadata": {},
   "outputs": [],
   "source": [
    "# аналогично создадим словарь для семейного положения\n",
    "family_status_dict = customer_solvency[['family_status', 'family_status_id']].drop_duplicates().reset_index(drop=True)\n",
    "display(family_status_dict)"
   ]
  },
  {
   "cell_type": "code",
   "execution_count": null,
   "metadata": {},
   "outputs": [],
   "source": [
    "# Названия уровня образования и семейного положения сохранены в словарях. \n",
    "# Теперь можно удалить их из основной таблицы. Воспользуемся методом drop()\n",
    "customer_solvency = customer_solvency.drop(['education', 'family_status'], axis = 1)\n",
    "display(customer_solvency.head(10))"
   ]
  },
  {
   "cell_type": "code",
   "execution_count": null,
   "metadata": {},
   "outputs": [],
   "source": [
    "# Категоризируем колличество детей в семье.\n",
    "# создадим словарь для категорий колличества детей в семье children_dict\n",
    "children_data = {'children_cat_id': [0, 1, 2, 3, 4],\n",
    "                 'children_cat_name': ['Нет детей', 'Один ребенок', 'Двое детей', \n",
    "                                       'Многодетная семья', 'Статус неизвестен']}\n",
    "children_columns = ['children_cat_id', 'children_cat_name']\n",
    "children_dict = pd.DataFrame(data = children_data, columns = children_columns)\n",
    "display(children_dict)"
   ]
  },
  {
   "cell_type": "code",
   "execution_count": null,
   "metadata": {},
   "outputs": [],
   "source": [
    "def set_children_cat_id(children):\n",
    "    \"\"\"\n",
    "    input: children (int64) - целое число, описывает колличество детей в семье\n",
    "    output: (int64) - целое число, идентификатор категории колличества детей в семье\n",
    "    Функция сопоставляет колличеству детей в семье одну из категорий:\n",
    "    \n",
    "    Children:  ID:   Категория:\n",
    "    0          0     Нет детей\n",
    "    1          1     Один ребенок\n",
    "    2          2     Двое детей\n",
    "    >2         3     Многодетная семья\n",
    "    <0         4     Статус неизвестен (значение -1 в столбце 'children')\n",
    "    \"\"\"\n",
    "    \n",
    "    if children == 0:\n",
    "        return 0\n",
    "    elif children == 1:\n",
    "        return 1\n",
    "    elif children == 2:\n",
    "        return 2\n",
    "    elif children > 2:\n",
    "        return 3\n",
    "    else:\n",
    "        return 4\n",
    "\n",
    "# с помощью метода apply применяем функцию set_children_cat_id ко всем 'children' \n",
    "# в таблице 'customer_solvency'\n",
    "customer_solvency['children_cat_id'] = customer_solvency['children'].apply(set_children_cat_id)\n",
    "display(customer_solvency.head(10))"
   ]
  },
  {
   "cell_type": "markdown",
   "metadata": {},
   "source": [
    "Категоризируем уровень дохода клиентов. Создадим словарь с идентификаторами уровня дохода и описаниями категорий:\n",
    "- В таблице `customer_solvency` создадим столбец `total_income_cat_name`, куда запишем категории уровня доходов, созданные с помощью метода `qcut()`.  \n",
    "- Далее создадим словарь `total_income_dict` c названиями и идентификаторами полученных ранее категорий.\n",
    "- С помощь метода `merge()` соотнесем названия и идентификаторы категорий доходов в основной таблице\n",
    "- Удалим названия категорий доходов из основной таблицы, оставив только иденнтификаторы (для наглядности и экономии места, занимаемого основной таблицей.)"
   ]
  },
  {
   "cell_type": "code",
   "execution_count": null,
   "metadata": {},
   "outputs": [],
   "source": [
    "# с помощью метода `qcut` создадим 6 категорий доходов с одинаковым колличеством клиентов в каждой группе. \n",
    "# Параметр `precision=0` необходим для целочисленного разделения на группы.\n",
    "customer_solvency['total_income_cat_name'] = pd.qcut(customer_solvency['total_income'], q=6, precision=0)\n",
    "# Выделим уникальные группы с помощью метода value_counts() и запишем их в отдельную таблицу\n",
    "total_income_dict = customer_solvency['total_income_cat_name'].value_counts().reset_index()\n",
    "# Нет необходимости хранить колличество записей для каждой группы, удалим эти данный с помощью метода `drop()`\n",
    "total_income_dict = total_income_dict.drop('total_income_cat_name', axis=1)\n",
    "# Переименуем столбец с названиями групп `total_income_cat_name`\n",
    "total_income_dict.columns = ['total_income_cat_name']\n",
    "# Отсортируем группы по возрастанию доходов с помощью метода `sort_values` и сбросим индексы в таблице.\n",
    "total_income_dict = total_income_dict.sort_values('total_income_cat_name').reset_index(drop = True)\n",
    "# Сброшенные индексы можно использовать как идентификаторы категорий доходов клиентов.\n",
    "# Запишем идентификаторы в столбец `total_income_cat_id`\n",
    "total_income_dict['total_income_cat_id'] = total_income_dict.index\n",
    "display(total_income_dict)"
   ]
  },
  {
   "cell_type": "code",
   "execution_count": null,
   "metadata": {},
   "outputs": [],
   "source": [
    "# С помощь метода merge() соотнесём названия и идентификаторы категорий доходов в основной таблице\n",
    "customer_solvency = customer_solvency.merge(total_income_dict, on='total_income_cat_name', how='left')\n",
    "# Удалим названия категорий доходов из основной таблицы с помощью метода `drop()`\n",
    "customer_solvency = customer_solvency.drop('total_income_cat_name', axis=1)\n",
    "display(customer_solvency.head(10))"
   ]
  },
  {
   "cell_type": "markdown",
   "metadata": {},
   "source": [
    "### Вывод"
   ]
  },
  {
   "cell_type": "markdown",
   "metadata": {},
   "source": [
    "При категоризации данных были выделены следующие словари:\n",
    "\n",
    "- Цели кредита (словарь `purposes`)\n",
    "- Ежемесячный доход (словарь `total_income_dict`)\n",
    "- Уровень образования клиента (словарь `education_dict`)\n",
    "- Семейное положение (словарь `family_status_dict`)\n",
    "- Колличество детей (словарь `children_dict`)  \n",
    "  \n",
    "Вся информация о категориях была вынесена в словари, в основной таблице оставлены идентификааторы категорий. Данные преобразования были сделаны для сокращения места, занимаемого основной таблицей, а также для наглядности и удобства работы."
   ]
  },
  {
   "cell_type": "markdown",
   "metadata": {},
   "source": [
    "## Шаг 3. Исследование данных"
   ]
  },
  {
   "cell_type": "markdown",
   "metadata": {},
   "source": [
    "### 3.1 Зависимость между наличием детей и возвратом кредита в срок"
   ]
  },
  {
   "cell_type": "markdown",
   "metadata": {},
   "source": [
    "Для ответа на вопрос составим новую таблицу `children_debt` с данными о задолженностях по кредиту `debt` из таблицы `customer_solvency` и информацией о колличестве детей `children_cat_id`, `children_cat_name` из словаря `children_dict`. \n",
    "Далее для наглядности результаты выведем в сводную таблицу.  \n",
    "Также рассчитаем отношение колличества клиентов с задолженностями к общему колличеству клиентов по каждой группе."
   ]
  },
  {
   "cell_type": "code",
   "execution_count": null,
   "metadata": {},
   "outputs": [],
   "source": [
    "children_debt = customer_solvency.merge(children_dict, on='children_cat_id', how='left')[['children_cat_id', \n",
    "                                                                             'children_cat_name', \n",
    "                                                                             'debt']]\n",
    "# сводную таблицу получим методом pivot_table(). \n",
    "children_debt_pivot = children_debt.pivot_table(index = 'children_cat_name', columns = 'debt', \n",
    "                                                values = 'children_cat_id', aggfunc = 'count')\n",
    "# найдем в каждой группе долю клиентов с задоленностями относительно \n",
    "# общего числа клиентов в данной группе\n",
    "children_debt_pivot['rate'] = children_debt_pivot[1] / (children_debt_pivot[0] + children_debt_pivot[1])\n",
    "display(children_debt_pivot)"
   ]
  },
  {
   "cell_type": "markdown",
   "metadata": {},
   "source": [
    "### Вывод"
   ]
  },
  {
   "cell_type": "markdown",
   "metadata": {},
   "source": [
    "- Минимальная доля клиентов с задолженностями среди группы без детей (7.5%). \n",
    "- Среди клиентов с одним и двумя детьми данные мало отличаются, примерно 9.5% клиентов имеют задолженности.\n",
    "- Среди многодетных семей доля клиентов с задолженностями составляет около 8.5%. Но в данной группе сравнительно небольшая выборка и необходимо дальнейшее иследование относительно достоверности результатов.\n",
    "- В целом доля задолженностей по кредитам среди клиентов не сильно меняется от колличества детей в семье (в пределах 1-2%)."
   ]
  },
  {
   "cell_type": "markdown",
   "metadata": {},
   "source": [
    "### 3.2 Зависимость между семейным положением и возвратом кредита в срок"
   ]
  },
  {
   "cell_type": "markdown",
   "metadata": {},
   "source": [
    "Для ответа на вопрос составим новую таблицу `family_status_debt` с данными о задолженностях по кредиту `debt` из таблицы `customer_solvency` и информацией о семейном статусе `family_status_id`, `family_status` из словаря `family_status_dict`.  \n",
    "Далее для наглядности результаты выведем в сводную таблицу.  \n",
    "Также рассчитаем отношение колличества клиентов с задолженностями к общему колличеству клиентов по каждой группе."
   ]
  },
  {
   "cell_type": "code",
   "execution_count": null,
   "metadata": {},
   "outputs": [],
   "source": [
    "family_status_debt = customer_solvency.merge(family_status_dict, \n",
    "                                on='family_status_id', how='left')[['family_status_id',\n",
    "                                                                   'family_status',\n",
    "                                                                   'debt']]\n",
    "# сводную таблицу получим методом pivot_table(). \n",
    "family_status_pivot = family_status_debt.pivot_table(index = 'family_status', columns = 'debt',\n",
    "                                                     values = 'family_status_id', aggfunc = 'count')\n",
    "# найдем в каждой группе долю клиентов с задоленностями относительно \n",
    "# общего числа клиентов в данной группе\n",
    "family_status_pivot['rate'] = family_status_pivot[1] / (family_status_pivot[0] + family_status_pivot[1])\n",
    "display(family_status_pivot)"
   ]
  },
  {
   "cell_type": "markdown",
   "metadata": {},
   "source": [
    "### Вывод"
   ]
  },
  {
   "cell_type": "markdown",
   "metadata": {},
   "source": [
    "- Минимальная доля клиентов с задолженностями среди группы `вдовец / вдова` (6.5%). \n",
    "- Среди клиентов групп `не женат / не замужем` и `гражданский брак` данные мало отличаются, примерно 9.5% клиентов имеют задолженности. Это максимальные показатели среди всех групп\n",
    "- Среди клиентов группы `вдовец / вдова` доля задолженностей минимальна и составляет около 6.5%. Но в данной группе сравнительно небольшая выборка и необходимо дальнейшее иследование относительно достоверности результатов.\n",
    "- Среди клиентов в категориях `женат / замужем` и `в разводе` доля задолженностей примерно одинакова и составляет 7-7.5%. Но выборка клиентов в разводе сравнительно неболшая, и данные могут быть недостоверны.\n",
    "- Судя по полученным данным, семейные клиенты имеют меньше задолженностей по кредитам, чем неженатые/незамужние клиенты или в гражданском браке. Возможно, семейные пары более тщательно планируют свой бюджет и серьезнее относятся к своим обязательствам.\n",
    "- В целом доля задолженностей по кредитам среди клиентов не сильно меняется от семейного положения (в пределах 3%)."
   ]
  },
  {
   "cell_type": "markdown",
   "metadata": {},
   "source": [
    "### 3.3 Зависимость между уровнем дохода и возвратом кредита в срок"
   ]
  },
  {
   "cell_type": "markdown",
   "metadata": {},
   "source": [
    "Для ответа на вопрос составим новую таблицу `total_income_debt` с данными о задолженностях по кредиту `debt` из таблицы `customer_solvency`, а также информацией о ежемесячных доходах `total_income_cat_id` и `total_income_cat_name` из словаря `total_income_dict`.  \n",
    "Далее для наглядности результаты выведем в сводную таблицу.  \n",
    "Также рассчитаем отношение колличества клиентов с задолженностями к общему колличеству клиентов по каждой группе.  "
   ]
  },
  {
   "cell_type": "code",
   "execution_count": null,
   "metadata": {},
   "outputs": [],
   "source": [
    "total_income_debt = customer_solvency.merge(total_income_dict, \n",
    "                                on='total_income_cat_id', how='left')[['total_income_cat_id',\n",
    "                                                                   'total_income_cat_name',\n",
    "                                                                   'debt']]\n",
    "# сводную таблицу получим методом pivot_table(). \n",
    "total_income_pivot = total_income_debt.pivot_table(index = 'total_income_cat_name', columns = 'debt',\n",
    "                                                     values = 'total_income_cat_id', aggfunc = 'count')\n",
    "# найдем в каждой группе долю клиентов с задоленностями относительно \n",
    "# общего числа клиентов в данной группе\n",
    "total_income_pivot['rate'] = total_income_pivot[1] / (total_income_pivot[0] + total_income_pivot[1])\n",
    "display(total_income_pivot.sort_values('rate'))"
   ]
  },
  {
   "cell_type": "markdown",
   "metadata": {},
   "source": [
    "### Вывод"
   ]
  },
  {
   "cell_type": "markdown",
   "metadata": {},
   "source": [
    "- Клиенты с высоким уровнем доходов (> 230к) в целом отдают кредиты в срок чаще (7% клиентов с задолженностями). \n",
    "- Клиенты с более низкими доходами (до 90к), а также с доходами в 175к-230к в среднем имеют задолженности в 8% случаев. Это может быть связано с нехваткой финансов или проблемами с планированием бюджета.\n",
    "- Клиенты со средними доходами (90к - 175к) имеют задолженности в 8-9% случаев. Это может быть связано с проблемами в планировании бюджета (большие сумммы кредитов и маленькие сроки могут приводить к высоким ежемесячным выплатам, с которыми клиенты не всегда справляются).\n",
    "- В целом данные не сильно отличаются с изменением уровня доходов (в пределах 2%)."
   ]
  },
  {
   "cell_type": "markdown",
   "metadata": {},
   "source": [
    "### 3.4 Влияние целей кредита на его возврат в срок"
   ]
  },
  {
   "cell_type": "markdown",
   "metadata": {},
   "source": [
    "Для ответа на вопрос составим новую таблицу `purposes_debt` с данными о задолженностях по кредиту `debt` из таблицы `customer_solvency`, а также информацией о ежемесячных доходах `purpose_category` и `purpose_cat_id` из словаря `purposes`.  \n",
    "Далее для наглядности результаты выведем в сводную таблицу.  \n",
    "Также рассчитаем отношение колличества клиентов с задолженностями к общему колличеству клиентов по каждой группе.  "
   ]
  },
  {
   "cell_type": "code",
   "execution_count": null,
   "metadata": {},
   "outputs": [],
   "source": [
    "purposes_debt = customer_solvency.merge(purposes,\n",
    "                           on='purpose_cat_id', how='left')[['purpose_cat_id',\n",
    "                                                             'purpose_category',\n",
    "                                                             'debt']]\n",
    "# сводную таблицу получим методом pivot_table(). \n",
    "purposes_debt_pivot = purposes_debt.pivot_table(index = 'purpose_category', columns = 'debt',\n",
    "                                                     values = 'purpose_cat_id', aggfunc = 'count')\n",
    "# найдем в каждой группе долю клиентов с задоленностями относительно \n",
    "# общего числа клиентов в данной группе\n",
    "purposes_debt_pivot['rate'] = purposes_debt_pivot[1] / (purposes_debt_pivot[0] + purposes_debt_pivot[1])\n",
    "display(purposes_debt_pivot.sort_values('rate'))"
   ]
  },
  {
   "cell_type": "markdown",
   "metadata": {},
   "source": [
    "### Вывод"
   ]
  },
  {
   "cell_type": "markdown",
   "metadata": {},
   "source": [
    "- Кредиты на ремонт квартиры в среднем задерживают в 5.7% случаев. Но выборка в этой категории относительно мала, сложно судить о достоверности результатов.\n",
    "- Больше всего кредитов берут на покупку и другие операции с недвижимостью. Задолженности возникают у 7.3% клиентов.\n",
    "- Кредиты на образование и покупку автомобиля задерживают в 9-9.5% случаев (на 2% больше чем кредиты, связанные с недвижимостью). На данном этапе сложно определить причины такой разницы.\n",
    "- В целом данные по задолженностям не сильно меняются от целей, на котоые взяты кредиты (в пределах 3 - 3.5%)."
   ]
  },
  {
   "cell_type": "markdown",
   "metadata": {},
   "source": [
    "## Шаг 4. Общий вывод"
   ]
  },
  {
   "cell_type": "markdown",
   "metadata": {},
   "source": [
    "1) В Работе были проанализированы данные о статистике платежеспособности клиентов.\n",
    "\n",
    "    - Были обнаружены пропущенные данные в одинаковых записях столбцов `days_employed` и `total_income`. Возможные причины - сбой системы при загрузке/выгрузке данных из базы.  \n",
    "    - Также в столбце `days_employed` обнаружены отрицательные и очень высокие значения. Причинами могли стать ошибки при заполнени данных, а также сбои при работе с базой данных. Точные причины некорректных данных на назвать сложно. Необходимо дальнейшее исследование ошибок с сотрудниками банка.    \n",
    "    - Посколько данные `days_employed` в дальнейших исследованиях не участвуют, пропущенные данные были заменены нулями для наглядности.  \n",
    "    - Данные в столбце `total_income` были заменены медианнными значениями групп с соответствующим уровнем образования клиентов.  \n",
    "    - Так же были обнаружены 46 записей с отрицательным значением колличества детей. Было сделано предположение, что колличество детей у данных клиентов неизвестно. Данные сохранены в отдельной группе.  \n",
    "\n",
    "2) После преобразования строковых данных была обнаружена 71 дублированная строка. Поскольку в данных нет уникальных идентификаторов клиентов, невозможно сделать точно сказать, дублированы ли данные одних и тех же клиентов или информация по разным клиентам совпала случайным образом.  Дублированные записи были удалены .  \n",
    "\n",
    "3) Среди целей на получение кредита было выделено 5 основных групп: `свадьба`, `ремонт`, `автомобиль`, `образование`, `жилье/недвижимость`. Лемматизация целей проводилась с использованием библиотеки `pymystem3`.  \n",
    "\n",
    "4) При категоризации данных были выделены словари с информацией:\n",
    "    - Цели кредита (словарь `purposes`)\n",
    "    - Ежемесячный доход (словарь `total_income_dict`)\n",
    "    - Уровень образования клиента (словарь `education_dict`)\n",
    "    - Семейное положение (словарь `family_status_dict`)\n",
    "    - Колличество детей (словарь `children_dict`)  \n",
    "\n",
    "Вся информация о категориях была вынесена в словари, в основной таблице оставлены идентификааторы категорий. Данные преобразования были сделаны для сокращения места, занимаемого основной таблицей, а также для наглядности и удобства работы.  \n",
    "\n",
    "5) Были проанализированы задолженности клиентов по кредитам в зависимости от количества детей в семье, семейного положения, уровня месячного дохода и цели кредита.  \n",
    "\n",
    "Данные выведены в сводные таблицы. Дополнительно рассчитаны доли клиентов с задолженностями для каждой категории.  \n",
    "В некоторых  категориях выборки оказались сравнительно малы, что не позволяет делать однозначные выводы о результатах исследований. Возможные пути решения проблемы - наращивать базу данных.  \n",
    "По всем категориям доли клиентов с задолженностями не превышала 10%, а различия значений между отдельными группами разделения не превышали 3.5%.  "
   ]
  },
  {
   "cell_type": "code",
   "execution_count": null,
   "metadata": {},
   "outputs": [],
   "source": []
  }
 ],
 "metadata": {
  "kernelspec": {
   "display_name": "Python 3 (ipykernel)",
   "language": "python",
   "name": "python3"
  },
  "language_info": {
   "codemirror_mode": {
    "name": "ipython",
    "version": 3
   },
   "file_extension": ".py",
   "mimetype": "text/x-python",
   "name": "python",
   "nbconvert_exporter": "python",
   "pygments_lexer": "ipython3",
   "version": "3.9.13"
  }
 },
 "nbformat": 4,
 "nbformat_minor": 4
}
